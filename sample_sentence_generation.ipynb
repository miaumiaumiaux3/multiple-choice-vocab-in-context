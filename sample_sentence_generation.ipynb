{
 "cells": [
  {
   "cell_type": "markdown",
   "source": [
    "# Sentence generation with a given word -- testing different models for English and Polish"
   ],
   "metadata": {
    "collapsed": false
   },
   "id": "986820a3a60fe64d"
  },
  {
   "cell_type": "markdown",
   "source": [
    "Some pre-requisites and things I had to install, mostly written here so I don't forget and that they're all in one place"
   ],
   "metadata": {
    "collapsed": false
   },
   "id": "2813d5b3d5abbd8f"
  },
  {
   "cell_type": "code",
   "outputs": [],
   "source": [
    "!pip install -U torch -q \n",
    "#pytorch \n",
    "#pip3 install torch torchvision torchaudio --index-url https://download.pytorch.org/whl/cu118 #this version with CUDA required for gemma\n",
    "!pip install -U transformers datasets -q \n",
    "!pip install -U accelerate -q \n",
    "#required to make gemma work"
   ],
   "metadata": {
    "collapsed": true
   },
   "id": "initial_id",
   "execution_count": null
  },
  {
   "cell_type": "code",
   "outputs": [],
   "source": [
    "import torch\n",
    "torch.cuda.is_available()"
   ],
   "metadata": {
    "collapsed": false
   },
   "id": "b92603dff9316b45",
   "execution_count": null
  },
  {
   "cell_type": "markdown",
   "source": [
    "## English with gemma 2b (instruct)"
   ],
   "metadata": {
    "collapsed": false
   },
   "id": "4dac71d04ef5d430"
  },
  {
   "cell_type": "code",
   "outputs": [],
   "source": [
    "#this model is gated, so... logging in to huggingface with #huggingface-cli login# is necessary\n",
    "from transformers import AutoTokenizer, AutoModelForCausalLM\n",
    "\n",
    "tokenizer = AutoTokenizer.from_pretrained(\"google/gemma-2b-it\")\n",
    "model = AutoModelForCausalLM.from_pretrained(\"google/gemma-2b-it\", device_map=\"auto\")\n",
    "\n"
   ],
   "metadata": {
    "collapsed": false
   },
   "id": "69846e330ca32e3b",
   "execution_count": null
  },
  {
   "cell_type": "code",
   "outputs": [],
   "source": [
    "input_text = \"Write a sentence that contains the word 'dancing'.\" #...it's the same everytime x_x\n",
    "input_ids = tokenizer(input_text, return_tensors=\"pt\").to(\"cuda\")\n",
    "\n",
    "outputs = model.generate(**input_ids, max_length=100)\n",
    "print(tokenizer.decode(outputs[0]))"
   ],
   "metadata": {
    "collapsed": false
   },
   "id": "78eb98d2b398be71",
   "execution_count": null
  },
  {
   "cell_type": "markdown",
   "source": [
    "### Sample output: (aka the only output this model will give, no randomness here)\n",
    "\n",
    "<bos>Write a sentence that contains the word 'dancing'.\n",
    "\n",
    "The dancing flames illuminated the night sky, casting a mesmerizing glow on the bustling city streets.<eos>"
   ],
   "metadata": {
    "collapsed": false
   },
   "id": "21a5be9ad0696cc2"
  },
  {
   "cell_type": "markdown",
   "source": [
    "### English with Mistral 7B Instruct v0.2"
   ],
   "metadata": {
    "collapsed": false
   },
   "id": "7da9e2948c75128c"
  },
  {
   "cell_type": "code",
   "outputs": [],
   "source": [
    "# Load model directly\n",
    "from transformers import AutoTokenizer, AutoModelForCausalLM, pipeline\n",
    "\n",
    "tokenizer = AutoTokenizer.from_pretrained(\"mistralai/Mistral-7B-Instruct-v0.2\")\n",
    "model = AutoModelForCausalLM.from_pretrained(\"mistralai/Mistral-7B-Instruct-v0.2\", device_map=\"auto\")\n",
    "\n",
    "pipe = pipeline(model=model, tokenizer=tokenizer, task='text-generation')"
   ],
   "metadata": {
    "collapsed": false
   },
   "id": "d68120b31b692ddf",
   "execution_count": null
  },
  {
   "cell_type": "code",
   "outputs": [],
   "source": [
    "human_prompt = \"Write me a sentence containing the word 'dancing'.\"\n",
    "prompt = f\"<s>[INST]{human_prompt}[/INST]\"\n",
    "\n",
    "outputs = pipe(\n",
    "    prompt,\n",
    "    max_new_tokens=256,\n",
    "    do_sample=True,\n",
    "    temperature=0.9,\n",
    "    top_p=0.95\n",
    ")\n",
    "print(outputs[0][\"generated_text\"])"
   ],
   "metadata": {
    "collapsed": false
   },
   "id": "6763b7a58ddd21d9",
   "execution_count": null
  },
  {
   "cell_type": "markdown",
   "source": [
    "### Samples:\n",
    "\n",
    "*(this one took 14 minutes to generate x_x Completely unacceptable...)*\n",
    "[INST]Write me a sentence containing the word 'dancing'.[/INST] Under the twinkling stars, a group of friends laughed and danced together, creating unforgettable memories at the outdoor summer party.\n",
    "\n",
    "*(this time it took 2.5 min for some reason, which is not great but fine I guess... except...)*\n",
    "Under the twinkling stars, a group of friends let go of their worries and danced joyfully to the rhythm of the lively music.\n",
    "\n",
    "*(ok what is up with these twinkling stars? x_x)*\n",
    "Under the twinkling stars, a group of friends laughed and danced together, creating a joyful and unforgettable moment.\n",
    "\n",
    "*(changed temperature from 0.1 to 0.5, let's see if it's any different)*\n",
    "Under the twinkling fairy lights, a group of friends laughed and cheered as they danced together, lost in the joyful rhythm of the music.\n",
    "*xDDDDDD*\n",
    "\n",
    "*(HOTTER! temperature 0.9!!)*\n",
    "Amidst the lively tunes of the marimba band, everyone was dancing joyfully in the moonlit garden.\n",
    "\n",
    "*(changed nothing and we're back to the twinkling stars xD)*\n",
    "Under the twinkling stars, a group of children laughed and danced together, their joyful movements illuminating the night.\n",
    "\n",
    "\n",
    "\n"
   ],
   "metadata": {
    "collapsed": false
   },
   "id": "22fdcbd6f7f4951d"
  },
  {
   "cell_type": "markdown",
   "source": [
    "## English with quantized Mistral 7B Instruct v0.2 (https://huggingface.co/TheBloke/Mistral-7B-Instruct-v0.2-GGUF)\n",
    "\n",
    "Current MVP for English, as it's the fastest and the results are good enough"
   ],
   "metadata": {
    "collapsed": false
   },
   "id": "7cde35eaf9b28c7"
  },
  {
   "cell_type": "code",
   "outputs": [],
   "source": [
    "!pip3 install huggingface-hub\n",
    "!pip install llama-cpp-python\n",
    "!huggingface-cli download TheBloke/Mistral-7B-Instruct-v0.2-GGUF mistral-7b-instruct-v0.2.Q4_K_M.gguf --local-dir . --local-dir-use-symlinks False"
   ],
   "metadata": {
    "collapsed": false
   },
   "id": "f4d87c3c174d4a0e",
   "execution_count": null
  },
  {
   "cell_type": "code",
   "outputs": [],
   "source": [
    "from llama_cpp import Llama\n",
    "\n",
    "# Set gpu_layers to the number of layers to offload to GPU. Set to 0 if no GPU acceleration is available on your system.\n",
    "llm = Llama(\n",
    "    model_path=\"./mistral-7b-instruct-v0.2.Q4_K_M.gguf\",  # Download the model file first\n",
    "    #chat_format= \"llama-2\", # The chat format to use - either \"llama-1\" or \"llama-2\" -- CAN BE OMITTED FOR DEFAULT FLAVOR\n",
    "    n_ctx=32768,  # The max sequence length to use - note that longer sequence lengths require much more resources\n",
    "    n_threads=8,            # The number of CPU threads to use, tailor to your system and the resulting performance\n",
    "    n_gpu_layers=35         # The number of layers to offload to GPU, if you have GPU acceleration available\n",
    ")"
   ],
   "metadata": {
    "collapsed": false
   },
   "id": "174ed9c6e90a7c41",
   "execution_count": null
  },
  {
   "cell_type": "code",
   "outputs": [],
   "source": [
    "prompt = \"Write me a sentence containing the word 'dances'.\"\n",
    "\n",
    "# Simple inference example\n",
    "output = llm(\n",
    "    f\"<s>[INST] {prompt} [/INST]\", # Prompt\n",
    "    max_tokens=120,  # Generate up to 120 tokens\n",
    "    stop=[\"</s>\"],   # Example stop token - not necessarily correct for this specific model! Please check before using.\n",
    "    echo=True        # Whether to echo the prompt\n",
    ")\n",
    "#print(output)\n",
    "print(output[\"choices\"][0][\"text\"])\n"
   ],
   "metadata": {
    "collapsed": false
   },
   "id": "9241ac5ec10b7ba8",
   "execution_count": null
  },
  {
   "cell_type": "markdown",
   "source": [
    "### Samples:\n",
    "\n",
    "[INST]Write me a sentence containing the word 'dancing'.\n",
    "Amidst the lively melody, people of all ages were dancing joyfully together at the outdoor festival.\n",
    "Amidst the lively tunes of the mariachi band, everyone was dancing and laughing, their joyful spirits intertwined in the warm summer evening.\n",
    "Under the twinkling stars, they danced together in perfect harmony, their laughter echoing through the night. *(NOOOOOOOO T-T)*\n",
    "As the sun began to set, the couple lost themselves in the rhythm of the music and started dancing passionately under the twinkling stars. *(IT'S BACK, AT THE BACK)*\n",
    "As the sun began to set, the crowd at the festival came alive with excitement as they formed a circle and started dancing together, lost in the rhythm of the lively music playing from the speakers.\n",
    "As the music played, everyone got up from their seats and started dancing enthusiastically, lost in the joy of the moment.\n",
    "Under the twinkling stars, they all gathered around the bonfire, laughing and clapping as they watched the graceful ballerinas perform enchanting dances at the village festival.\n",
    "\n",
    "*(ok so these are very similar except they take 5 seconds or less, which is obviously strictly better, we'll go with this one after all)*\n",
    "\n",
    "*(also if we change the word at all, we get different results, so that's good too. Something to keep in mind for sure.)*\n",
    "\n",
    "[INST] Write me an example sentence containing the word 'dance'. [/INST] \n",
    "On the vibrant and colorful stage, the ballerinas danced gracefully to the enchanting melodies of Tchaikovsky's Swan Lake.\n",
    "Sarah twirled gracefully across the floor as she danced to the lively rhythm of the salsa music at the local community center.\n",
    "\n",
    "[INST] Write me an example sentence containing the word 'dances'. [/INST] At the annual village festival, children of all ages danced joyfully around the maypole, weaving colorful ribbons in a lively and synchronous pattern.\n",
    "The colorful performers gracefully danced to the lively rhythm of the traditional music, mesmerizing the crowd with their elegant movements and synchronized steps.\n"
   ],
   "metadata": {
    "collapsed": false
   },
   "id": "7e21fd9295e26179"
  },
  {
   "cell_type": "markdown",
   "source": [
    "### Polish with Bielik 7B Instruct v0.1 GPTQ (quantized)\n",
    "\n",
    "Current MVP for Polish, it's fast and does exactly what I need"
   ],
   "metadata": {
    "collapsed": false
   },
   "id": "2dfd868bcf20def8"
  },
  {
   "cell_type": "code",
   "outputs": [],
   "source": [
    "%%capture\n",
    "\n",
    "!pip install optimum -q\n",
    "!pip install auto-gptq -q\n",
    "!pip install ctransformers[cuda]"
   ],
   "metadata": {
    "collapsed": false
   },
   "id": "139d1c272e4c5593",
   "execution_count": null
  },
  {
   "cell_type": "code",
   "outputs": [],
   "source": [
    "import gc\n",
    "import torch\n",
    "import warnings\n",
    "\n",
    "#warnings.filterwarnings(\"ignore\") # good for demo, not good idea for production :)"
   ],
   "metadata": {
    "collapsed": false
   },
   "id": "e7444fba2f2d23e5",
   "execution_count": null
  },
  {
   "cell_type": "code",
   "outputs": [],
   "source": [
    "from transformers import AutoModelForCausalLM, AutoTokenizer, pipeline\n",
    "\n",
    "model_id = \"speakleash/Bielik-7B-Instruct-v0.1-GPTQ\" #https://colab.research.google.com/drive/1Al9glPVCuOXbtDsks8cMcuzkuu8YDzpg?usp=sharing#scrollTo=LDo7PEL-gyyy\n",
    "tokenizer = AutoTokenizer.from_pretrained(model_id, use_fast=True)\n",
    "model = AutoModelForCausalLM.from_pretrained(\n",
    "    model_id,\n",
    "    device_map=\"auto\",\n",
    "    trust_remote_code=False,\n",
    "    revision=\"main\"\n",
    ")\n",
    "\n",
    "pipe = pipeline(model=model, tokenizer=tokenizer, task='text-generation')\n",
    "gptq=True"
   ],
   "metadata": {
    "collapsed": false
   },
   "id": "2e64a6f379c50106",
   "execution_count": null
  },
  {
   "cell_type": "code",
   "outputs": [],
   "source": [
    "human_prompt = \"Napisz zdaniez, w którym znajduje się słowo 'taniec'\"\n",
    "prompt = f\"<s>[INST]{human_prompt}[/INST]\"\n",
    "\n",
    "outputs = pipe(\n",
    "    prompt,\n",
    "    max_new_tokens=256,\n",
    "    do_sample=True,\n",
    "    temperature=0.1, #0.1 is the default, changing it to .5 leads to... German xD\n",
    "    top_p=0.95\n",
    ")\n",
    "print(outputs[0][\"generated_text\"])"
   ],
   "metadata": {
    "collapsed": false
   },
   "id": "4307c8192d823c24",
   "execution_count": null
  },
  {
   "cell_type": "markdown",
   "source": [
    "### Samples:\n",
    "\n",
    "[INST]Proszę napisać mi zdanie zawierające słowo 'taniec'[/INST]  \n",
    "Taniec to jedna z najstarszych form sztuki, która wyraża emocje, historie i kulturę narodów na całym świecie.\n",
    "\n",
    "[INST]Napisz przykładowe zdanie, w którym się pojawia słowo 'taniec'[/INST]  \n",
    "Taniec to jedna z najstarszych form sztuki, która wyraża emocje, energię i kreatywność poprzez ruch i muzykę.\n",
    "\n",
    "[INST]Napisz przykładowe zdanie, w którym się pojawia słowo **'tańca'**[/INST]  \n",
    "Taniec to nie tylko forma rozrywki, ale również sposób na wyrażenie emocji i kreatywności.\n",
    "Taniec to nie tylko forma rozrywki, ale również sposób na wyrażenie emocji i kreatywności. #hmm, usually not THIS repetitive\n",
    "\n",
    "[INST]Napisz zdanie, w którym się pojawia słowo 'tańce'[/INST]  *(temp 0.3)*\n",
    "Taniec to jedna z najstarszych form sztuki, która łączy w sobie elementy muzyki, ruchu i wyrażania emocji.\n",
    "\n",
    "[INST]... 'tańce'[/INST]  *(temp 0.4)*\n",
    "Taniec to jedna z najstarszych form sztuki, która pozwala wyrazić emocje i wyzwolić energię.\n",
    "\n",
    "[INST]... 'tańce'[/INST]  *(temp 0.1)*\n",
    "Taniec to jedna z najstarszych form sztuki, która wyraża emocje, energię i kulturę narodów całego świata.\n",
    "\n",
    "[INST]Napisz zdaniez, używając słowo 'taniec'[/INST]  \n",
    "Taniec jest jednym z najstarszych i najbardziej uniwersalnych sposobów wyrażania siebie i komunikacji międzyludzkiej.\n",
    "\n",
    "[INST]Napisz zdaniez, w którym ktoś robi 'taniec'[/INST]  \n",
    "W sobotni wieczór na parkiecie królował nie tylko taniec, ale i radość życia. #wayyy too vague of an answer\n",
    "\n",
    "[INST]Napisz zdaniez, w którym znajduje się słowo 'taniec'[/INST]  \n",
    "Taniec to jedna z najstarszych form sztuki, która wyraża emocje, opowiada historie i łączy ludzi.\n",
    "\n",
    "\n",
    "*(temperature 0.5 xDDDDD)*\n",
    "Fußwork, der die Körpertatsen entfaltt, ist ein Element der Körpertatsen, der auf der Bühne sehr oft genutzt wird.\n",
    "\n",
    "**Aside from the german one, these are pretty samesy, but honestly really functional. I can try to think of other formats for the prompt that could change the output and continue to test those in the future**"
   ],
   "metadata": {
    "collapsed": false
   },
   "id": "c15a6f9985e1176c"
  },
  {
   "cell_type": "code",
   "outputs": [],
   "source": [
    "human_prompt = (\"Napisz zdanie, w którym pojawia się słowo 'tańczący'.\") \n",
    "prompt = f\"<s>[INST]{human_prompt}[/INST]\"\n",
    "\n",
    "outputs = pipe(\n",
    "    prompt,\n",
    "    max_new_tokens=256,\n",
    "    do_sample=True,\n",
    "    temperature=0.1,\n",
    "    top_p=0.95\n",
    ")\n",
    "print(outputs[0][\"generated_text\"])"
   ],
   "metadata": {
    "collapsed": false
   },
   "id": "cc30c7df7072fc6c",
   "execution_count": null
  },
  {
   "cell_type": "markdown",
   "source": [
    "### Samples:\n",
    "\n",
    "[INST]Napisz zdanie zawierające słowo 'tańczący'.[/INST]  \n",
    "W parku można było zobaczyć grupę tańczących par, które spędzały miło czas na świeżym powietrzu.\n",
    "W letnie wieczory parki w całym mieście wypełniają się dźwiękami muzyki i radosnymi ludźmi, którzy tańczą, ciesząc się chwilą.\n",
    "Wśród tańczących na parkiecie, tylko ona poruszała się z taką gracją i lekkością.\n",
    "\n",
    "[INST]Napisz zdanie, w którym pojawia się słowo 'tańczący'.[/INST]\n",
    "Wśród tańczących na parkiecie, tylko ona poruszała się z taką gracją i lekkością.\n",
    "\n",
    "**Ok, so some words just produce more varied results regardless, which kinda makes sense actually. Maybe other prompt sentences aren't really necessary, but we'll see how it all comes together.**\n",
    "\n"
   ],
   "metadata": {
    "collapsed": false
   },
   "id": "7bde031a125cd34e"
  },
  {
   "cell_type": "code",
   "outputs": [],
   "source": [
    "human_prompt = (\"Napisz 4 zdania, w ktorych się pojawia słowo 'taniec'.\")\n",
    "prompt = f\"<s>[INST]{human_prompt}[/INST]\"\n",
    "\n",
    "outputs = pipe(\n",
    "    prompt,\n",
    "    max_new_tokens=256,\n",
    "    do_sample=True,\n",
    "    temperature=0.1,\n",
    "    top_p=0.95\n",
    ")\n",
    "print(outputs[0][\"generated_text\"])"
   ],
   "metadata": {
    "collapsed": false
   },
   "id": "814ea07c8ee49e61",
   "execution_count": null
  },
  {
   "cell_type": "markdown",
   "source": [
    "### Samples:\n",
    "\n",
    "[INST]Napisz 4 przykładowe zdania, w ktorych znajduje się słowo 'taniec'.[/INST]  Oto przykłady zdań, w których pojawia się słowo \"taniec\":\n",
    "\n",
    "1. Taniec to wyrafinowana forma sztuki, która łączy w sobie ruch, muzykę i emocje.\n",
    "2. Julia pokochała taniec od pierwszego wejrzenia, gdy tylko zobaczyła transmisję z baletu.\n",
    "3. W weekendowym parku ludzie tańczyli wokół ognia, świętując nadejście wiosny.\n",
    "4. Taniec towarzyski stał się jego pasją, odkąd zaczął brać lekcje i wygrywać turnieje.\n",
    "\n",
    "[INST]Napisz 4 przykładowe zdania, w ktorych się pojawia słowo 'taniec'.[/INST]  Oto przykładowe zdania, w których pojawia się słowo \"taniec\":\n",
    "\n",
    "1. Taniec to jedna z najstarszych form sztuki, wyrażająca radość i wolność poprzez ruch.\n",
    "2. Uwielbiam patrzeć, jak moje dzieci tańczą bez tremy, wyrażając siebie w sposób naturalny.\n",
    "3. Taniec towarzyski to forma sztuki, która łączy partnerów w harmonijnym ruchu i muzyce.\n",
    "4. Taniec brzucha to technika, która łączy w sobie elementy akrobatyki, izraelskiego folkloru i jogi, wyrażając wewnętrzne piękno kobiecości.\n",
    "\n",
    "...\n",
    "1. Taniec to wyrafinowana forma sztuki, która łączy w sobie ruch, muzykę i emocje.\n",
    "2. Julia kocha taniec i postanowiła zapisać się do szkoły baletowej.\n",
    "3. W trakcie wesela, goście zostali zachęceni do wspólnego tańca i zabawy.\n",
    "4. Taniec towarzyski to forma tańca społecznego, która jest wykonywana w parach do różnych rodzajów muzyki."
   ],
   "metadata": {
    "collapsed": false
   },
   "id": "3ca7c1e2b1dd62ff"
  }
 ],
 "metadata": {
  "kernelspec": {
   "display_name": "Python 3",
   "language": "python",
   "name": "python3"
  },
  "language_info": {
   "codemirror_mode": {
    "name": "ipython",
    "version": 2
   },
   "file_extension": ".py",
   "mimetype": "text/x-python",
   "name": "python",
   "nbconvert_exporter": "python",
   "pygments_lexer": "ipython2",
   "version": "2.7.6"
  }
 },
 "nbformat": 4,
 "nbformat_minor": 5
}
