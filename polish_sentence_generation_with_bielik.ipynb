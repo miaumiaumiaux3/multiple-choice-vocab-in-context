{
 "cells": [
  {
   "cell_type": "markdown",
   "source": [
    "### Polish with Bielik 7B Instruct v0.1 GPTQ (quantized)\n",
    "I've made a bonus file here for these sentence generation tests because loading more than one model in a notebook just stores it in memory I guess and makes it so that further models can run into weird errors."
   ],
   "metadata": {
    "collapsed": false
   },
   "id": "8fb2091f4ae634b3"
  },
  {
   "cell_type": "code",
   "execution_count": 1,
   "id": "initial_id",
   "metadata": {
    "collapsed": true,
    "ExecuteTime": {
     "end_time": "2024-05-01T19:11:50.782906Z",
     "start_time": "2024-05-01T19:11:50.776905Z"
    }
   },
   "outputs": [],
   "source": [
    "# %%capture\n",
    "# \n",
    "# !pip install accelerate -q\n",
    "# !pip install optimum -q\n",
    "# !pip install auto-gptq -q\n",
    "# !pip install ctransformers[cuda]"
   ]
  },
  {
   "cell_type": "code",
   "outputs": [],
   "source": [
    "import gc\n",
    "import torch\n",
    "import warnings\n",
    "\n",
    "#warnings.filterwarnings(\"ignore\") # good for demo, not good idea for production :)"
   ],
   "metadata": {
    "collapsed": false,
    "ExecuteTime": {
     "end_time": "2024-05-01T19:11:53.279516Z",
     "start_time": "2024-05-01T19:11:50.785907Z"
    }
   },
   "id": "45cef2f56d3d1b09",
   "execution_count": 2
  },
  {
   "cell_type": "code",
   "outputs": [
    {
     "name": "stderr",
     "output_type": "stream",
     "text": [
      "CUDA extension not installed.\n",
      "CUDA extension not installed.\n",
      "C:\\Users\\chase\\anaconda3\\envs\\untitled\\lib\\site-packages\\transformers\\modeling_utils.py:4225: FutureWarning: `_is_quantized_training_enabled` is going to be deprecated in transformers 4.39.0. Please use `model.hf_quantizer.is_trainable` instead\n",
      "  warnings.warn(\n"
     ]
    }
   ],
   "source": [
    "from transformers import AutoModelForCausalLM, AutoTokenizer, pipeline\n",
    "\n",
    "model_id = \"speakleash/Bielik-7B-Instruct-v0.1-GPTQ\" #https://colab.research.google.com/drive/1Al9glPVCuOXbtDsks8cMcuzkuu8YDzpg?usp=sharing#scrollTo=LDo7PEL-gyyy\n",
    "tokenizer = AutoTokenizer.from_pretrained(model_id, use_fast=True)\n",
    "model = AutoModelForCausalLM.from_pretrained(\n",
    "    model_id,\n",
    "    device_map=\"auto\",\n",
    "    trust_remote_code=False,\n",
    "    revision=\"main\"\n",
    ")\n",
    "\n",
    "pipe = pipeline(model=model, tokenizer=tokenizer, task='text-generation')\n",
    "gptq=True"
   ],
   "metadata": {
    "collapsed": false,
    "ExecuteTime": {
     "end_time": "2024-05-01T19:12:02.229660Z",
     "start_time": "2024-05-01T19:11:53.280515Z"
    }
   },
   "id": "c9046bb848a1fd45",
   "execution_count": 3
  },
  {
   "cell_type": "code",
   "outputs": [
    {
     "name": "stderr",
     "output_type": "stream",
     "text": [
      "Setting `pad_token_id` to `eos_token_id`:2 for open-end generation.\n",
      "C:\\Users\\chase\\anaconda3\\envs\\untitled\\lib\\site-packages\\transformers\\models\\mistral\\modeling_mistral.py:688: UserWarning: 1Torch was not compiled with flash attention. (Triggered internally at C:\\actions-runner\\_work\\pytorch\\pytorch\\builder\\windows\\pytorch\\aten\\src\\ATen\\native\\transformers\\cuda\\sdp_utils.cpp:263.)\n",
      "  attn_output = torch.nn.functional.scaled_dot_product_attention(\n"
     ]
    },
    {
     "name": "stdout",
     "output_type": "stream",
     "text": [
      "<s>[INST]Napisz zdaniez, w którym znajduje się słowo 'taniec'[/INST]  Taniec to jedna z najstarszych form sztuki, który łączy w sobie elementy muzyki, ruchu i wyrażania emocji.\n"
     ]
    }
   ],
   "source": [
    "human_prompt = \"Napisz zdaniez, w którym znajduje się słowo 'taniec'\"\n",
    "prompt = f\"<s>[INST]{human_prompt}[/INST]\"\n",
    "\n",
    "outputs = pipe(\n",
    "    prompt,\n",
    "    max_new_tokens=256,\n",
    "    do_sample=True,\n",
    "    temperature=0.1, #0.1 is the default, changing it to .5 leads to... German xD\n",
    "    top_p=0.95\n",
    ")\n",
    "print(outputs[0][\"generated_text\"])"
   ],
   "metadata": {
    "collapsed": false,
    "ExecuteTime": {
     "end_time": "2024-05-01T19:12:25.738294Z",
     "start_time": "2024-05-01T19:12:02.230660Z"
    }
   },
   "id": "6967aeab10b29e67",
   "execution_count": 4
  },
  {
   "cell_type": "code",
   "outputs": [
    {
     "name": "stderr",
     "output_type": "stream",
     "text": [
      "Setting `pad_token_id` to `eos_token_id`:2 for open-end generation.\n"
     ]
    },
    {
     "name": "stdout",
     "output_type": "stream",
     "text": [
      "<s>[INST]Napisz zdanie, w którym pojawia się słowo 'tańczący'.[/INST]  Wśród tańczących na parkiecie, tylko ona poruszała się z taką gracją i lekkością.\n"
     ]
    }
   ],
   "source": [
    "human_prompt = (\"Napisz zdanie, w którym pojawia się słowo 'tańczący'.\")\n",
    "prompt = f\"<s>[INST]{human_prompt}[/INST]\"\n",
    "\n",
    "outputs = pipe(\n",
    "    prompt,\n",
    "    max_new_tokens=256,\n",
    "    do_sample=True,\n",
    "    temperature=0.1,\n",
    "    top_p=0.95\n",
    ")\n",
    "print(outputs[0][\"generated_text\"])"
   ],
   "metadata": {
    "collapsed": false,
    "ExecuteTime": {
     "end_time": "2024-05-01T19:12:46.902366Z",
     "start_time": "2024-05-01T19:12:25.739294Z"
    }
   },
   "id": "14244db98ac962e6",
   "execution_count": 5
  },
  {
   "cell_type": "code",
   "outputs": [
    {
     "name": "stderr",
     "output_type": "stream",
     "text": [
      "Setting `pad_token_id` to `eos_token_id`:2 for open-end generation.\n"
     ]
    },
    {
     "name": "stdout",
     "output_type": "stream",
     "text": [
      "<s>[INST]Napisz 40 zdania, w ktorych się pojawia słowo 'taniec'.[/INST]  \"Taniec jest jak muzyka duszy, wyraża emocje i pozwala na chwilę wolności. W weekend zorganizowaliśmy warsztaty tańca nowoczesnego, które były pełne energii i kreatywności. Na parkiecie hotelowym, podczas studniówki, wszyscy bawili się wspaniale, tworząc niezapomniane wspomnienia. W sobotę wieczorem, na plaży, przy dźwiękach fal, odbył się pokaz tańca towarzyskiego, który był prawdziwym spektaklem. Nauka tańca w grupie dodaje odwagi i motywacji, a każde spotkanie to fascynująca podróż w świat rytmu i muzyki. W niedzielne popołudnie, w parku miejskim, odbył się festiwal tańca ulicznego, który przyciągnął tłumy widzów i wykonawców.\"\n"
     ]
    }
   ],
   "source": [
    "human_prompt = (\"Napisz 40 zdania, w ktorych się pojawia słowo 'taniec'.\")\n",
    "prompt = f\"<s>[INST]{human_prompt}[/INST]\"\n",
    "\n",
    "outputs = pipe(\n",
    "    prompt,\n",
    "    max_new_tokens=40000, #256 is the default\n",
    "    do_sample=True,\n",
    "    temperature=0.1,\n",
    "    top_p=0.95\n",
    ")\n",
    "print(outputs[0][\"generated_text\"])"
   ],
   "metadata": {
    "collapsed": false,
    "ExecuteTime": {
     "end_time": "2024-05-01T19:15:03.088005Z",
     "start_time": "2024-05-01T19:12:46.904366Z"
    }
   },
   "id": "854f7d777d3c9185",
   "execution_count": 6
  },
  {
   "cell_type": "markdown",
   "source": [
    "### Sample output text -- one sentence missing \"taniec/dance\" equivalent, formatted with newlines for easier reading\n",
    "\n",
    "\"Taniec jest jak muzyka duszy, wyraża emocje i pozwala na chwilę wolności. \n",
    "W weekend zorganizowaliśmy warsztaty tańca nowoczesnego, które były pełne energii i kreatywności. \n",
    "Na parkiecie hotelowym, podczas studniówki, wszyscy bawili się wspaniale, tworząc niezapomniane wspomnienia. \n",
    "W sobotę wieczorem, na plaży, przy dźwiękach fal, odbył się pokaz tańca towarzyskiego, który był prawdziwym spektaklem. \n",
    "Nauka tańca w grupie dodaje odwagi i motywacji, a każde spotkanie to fascynująca podróż w świat rytmu i muzyki. \n",
    "W niedzielne popołudnie, w parku miejskim, odbył się festiwal tańca ulicznego, który przyciągnął tłumy widzów i wykonawców.\""
   ],
   "metadata": {
    "collapsed": false
   },
   "id": "570ea783893b898b"
  },
  {
   "cell_type": "code",
   "outputs": [
    {
     "name": "stderr",
     "output_type": "stream",
     "text": [
      "Setting `pad_token_id` to `eos_token_id`:2 for open-end generation.\n"
     ]
    },
    {
     "name": "stdout",
     "output_type": "stream",
     "text": [
      "<s>[INST]Napisz 40 zdania, w ktorych się pojawia słowo 'tańczyć'.[/INST]  Oto 40 zdań, w których pojawia się słowo \"tańczyć\":\n",
      "\n",
      "1. Ona potrafi pięknie tańczyć, a jej ruchy na parkiecie hipnotyzują wszystkich wokół.\n",
      "2. W sobotni wieczór miasto tętniło muzyką, a ludzie ochoczo wyszli na ulice, by tańczyć.\n",
      "3. Taniec to jej pasja, poświęca wiele czasu na doskonalenie swoich umiejętności i występy.\n",
      "4. Na balu wszyscy tańczyli w rytm muzyki, ciesząc się każdym krokiem i chwilą spędzoną razem.\n",
      "5. On zawsze potrafi dostosować swoje ruchy do muzyki, wplatając w taniec swoją osobowość.\n",
      "6. Podczas jogi, uczestnicy uczą się synchronizować swoje ruchy z oddechem, co pomaga w medytacyjnym doświadczeniu tańca.\n",
      "7. Jej ulubiony styl tańca to salsa, dzięki której może wyrazić swoją osobowość i energię.\n",
      "8. Na scenie tancerze tworzą żywe dzieła sztuki, ich ruchy i wyrazy twarzy opowiadają historie bez słów.\n",
      "9. W szkole tańca dzieci uczą się podstawowych kroków i układów choreograficznych, rozwijając swoją koordynację i miłość do ruchu.\n",
      "10. Taniec to sposób na wyrażenie emocji i uwolnienie się od codziennych trosk.\n",
      "11. Na turnieju tańca nowoczesnego każda formacja prezentuje swoje umiejętności, rywalizując z innymi zespołami.\n",
      "12. W trakcie warsztatów tanecznych uczestnicy uczą się nowych stylów i technik, rozwijając swoje umiejętności i kreatywność.\n",
      "13. Taniec może być terapeutyczny, pomagając w uwolnieniu emocji i redukcji stresu.\n",
      "14. Na pokazie mody, projektanci i modele wspólnie tańczą, tworząc widowisko, które podkreśla kolekcję i jej przesłanie.\n",
      "15. W teledyskach tancerze wcielają się w różne role, opowiadając historie piosenek za pomocą swojego ciała.\n",
      "16. Na festiwalu tańca, różne zespoły i soliści prezentują swoje umiejętności w różnorodnych stylach, tworząc widowisko pełne kolorów i emocji.\n",
      "17. Taniec może łączyć ludzi, tworząc wspólnotę i więzi poprzez wspólne doświadczenia taneczne.\n",
      "18. Na lekcjach tańca instruktorzy uczą uczniów nie tylko konkretnych kroków, ale także ekspresji i interpretacji muzyki.\n",
      "19. Taniec może być sposobem na poznanie nowych ludzi i zawarcie przyjaźni, poprzez uczestnictwo w zajęciach grupowych lub wydarzeniach tanecznych.\n",
      "20. W filmach i serialach, taniec często służy jako środek wyrazu, podkreślając emocje postaci i budując napięcie w fabule.\n",
      "21. Na turniejach tańca towarzyskiego pary rywalizują w różnych stylach, prezentując swoje umiejętności i grację.\n",
      "22. W przedstawieniach teatralnych i baletowych, taniec jest integralną częścią fabuły i opowieści, tworząc napięcie i emocje.\n",
      "23. Na imprezach okolicznościowych, goście chętnie tańczą, tworząc radosną atmosferę i okazję do integracji.\n",
      "24. W sztukach walki, taniec może być elementem treningu, uczącym rytmiki, koordynacji i lekkości ruchów.\n",
      "25. Na zajęciach jogi, uczestnicy uczą się synchronizować ruchy z oddechem, tworząc połączenie między ciałem a umysłem.\n",
      "26. W filmach muzycznych, taniec jest ważnym elementem fabuły, odzwierciedlającym emocje bohaterów i atmosferę miejsca.\n",
      "27. Na festiwalach ulicznych, różne zespoły taneczne prezentują swoje umiejętności w różnorodnych stylach, przyciągając widzów i tworząc atmosferę święta.\n",
      "28. W programach telewizyjnych, taniec może być formą rywalizacji, w której uczestnicy prezentują swoje umiejętności i otrzymują oceny od jurorów.\n",
      "29. Na weselach, goście chętnie tańczą, tworząc radosną atmosferę i okazję do świętowania nowożeńców.\n",
      "30. W spektaklach teatralnych i baletowych, tancerze wcielają się w różne role, tworząc widowisko pełne ekspresji i emocji.\n",
      "31. Na warsztatach tanecznych, uczestnicy uczą się nowych stylów i technik, rozwijając swoją kreatywność i umiejętności.\n",
      "32. W filmach dokumentalnych, taniec może być sposobem na opowiedzenie historii, pokazując kulturę i tradycje różnych społeczności.\n",
      "33. Na turniejach tańca sportowego, zawodnicy rywalizują w różnych kategoriach wagowych i stylach, prezentując swoje umiejętności i techniki.\n",
      "34. W parkach miejskich, specjalne strefy do tańca przyciągają miłośników ruchu i muzyki, tworząc przestrzeń do kreatywnego wyrażania się.\n",
      "35. Na lekcjach wychowania fizycznego, uczniowie uczą się podstawowych kroków i układów tanecznych, rozwijając swoją koordynację i umiejętność pracy w grupie.\n",
      "36. W filmach muzycznych, taniec jest ważnym elementem fabuły, odzwierciedlającym emocje bohaterów i atmosferę miejsca.\n",
      "37. Na festiwalach ulicznych, różne zespoły taneczne prezentują swoje umiejętności w różnorodnych stylach, przyciągając widzów i tworząc atmosferę święta.\n",
      "38. W programach telewizyjnych, taniec może być formą rywalizacji, w której uczestnicy prezentują swoje umiejętności i otrzymują oceny od jurorów.\n",
      "39. Na weselach, goście chętnie tańczą, tworząc radosną atmosferę i okazję do świętowania nowożeńców.\n",
      "40. W spektaklach teatralnych i baletowych, tancerze wcielają się w różne role, tworząc widowisko pełne ekspresji i emocji.\n"
     ]
    }
   ],
   "source": [
    "human_prompt = (\"Napisz 40 zdania, w ktorych się pojawia słowo 'tańczyć'.\")\n",
    "prompt = f\"<s>[INST]{human_prompt}[/INST]\"\n",
    "\n",
    "outputs = pipe(\n",
    "    prompt,\n",
    "    max_new_tokens=100000, #256 is the default\n",
    "    do_sample=True,\n",
    "    temperature=0.1,\n",
    "    top_p=0.95\n",
    ")\n",
    "print(outputs[0][\"generated_text\"])"
   ],
   "metadata": {
    "collapsed": false,
    "ExecuteTime": {
     "end_time": "2024-05-01T19:34:20.584726Z",
     "start_time": "2024-05-01T19:16:38.405849Z"
    }
   },
   "id": "df13f6ad19832ade",
   "execution_count": 7
  },
  {
   "cell_type": "markdown",
   "source": [
    "### Sample output text -- wow, it took 18 minutes but it did the thing!\n",
    "\n",
    "Oto 40 zdań, w których pojawia się słowo \"tańczyć\":\n",
    "\n",
    "1. Ona potrafi pięknie tańczyć, a jej ruchy na parkiecie hipnotyzują wszystkich wokół.\n",
    "2. W sobotni wieczór miasto tętniło muzyką, a ludzie ochoczo wyszli na ulice, by tańczyć.\n",
    "3. Taniec to jej pasja, poświęca wiele czasu na doskonalenie swoich umiejętności i występy.\n",
    "4. Na balu wszyscy tańczyli w rytm muzyki, ciesząc się każdym krokiem i chwilą spędzoną razem.\n",
    "5. On zawsze potrafi dostosować swoje ruchy do muzyki, wplatając w taniec swoją osobowość.\n",
    "6. Podczas jogi, uczestnicy uczą się synchronizować swoje ruchy z oddechem, co pomaga w medytacyjnym doświadczeniu tańca.\n",
    "7. Jej ulubiony styl tańca to salsa, dzięki której może wyrazić swoją osobowość i energię.\n",
    "8. Na scenie tancerze tworzą żywe dzieła sztuki, ich ruchy i wyrazy twarzy opowiadają historie bez słów.\n",
    "9. W szkole tańca dzieci uczą się podstawowych kroków i układów choreograficznych, rozwijając swoją koordynację i miłość do ruchu.\n",
    "10. Taniec to sposób na wyrażenie emocji i uwolnienie się od codziennych trosk.\n",
    "11. Na turnieju tańca nowoczesnego każda formacja prezentuje swoje umiejętności, rywalizując z innymi zespołami.\n",
    "12. W trakcie warsztatów tanecznych uczestnicy uczą się nowych stylów i technik, rozwijając swoje umiejętności i kreatywność.\n",
    "13. Taniec może być terapeutyczny, pomagając w uwolnieniu emocji i redukcji stresu.\n",
    "14. Na pokazie mody, projektanci i modele wspólnie tańczą, tworząc widowisko, które podkreśla kolekcję i jej przesłanie.\n",
    "15. W teledyskach tancerze wcielają się w różne role, opowiadając historie piosenek za pomocą swojego ciała.\n",
    "16. Na festiwalu tańca, różne zespoły i soliści prezentują swoje umiejętności w różnorodnych stylach, tworząc widowisko pełne kolorów i emocji.\n",
    "17. Taniec może łączyć ludzi, tworząc wspólnotę i więzi poprzez wspólne doświadczenia taneczne.\n",
    "18. Na lekcjach tańca instruktorzy uczą uczniów nie tylko konkretnych kroków, ale także ekspresji i interpretacji muzyki.\n",
    "19. Taniec może być sposobem na poznanie nowych ludzi i zawarcie przyjaźni, poprzez uczestnictwo w zajęciach grupowych lub wydarzeniach tanecznych.\n",
    "20. W filmach i serialach, taniec często służy jako środek wyrazu, podkreślając emocje postaci i budując napięcie w fabule.\n",
    "21. Na turniejach tańca towarzyskiego pary rywalizują w różnych stylach, prezentując swoje umiejętności i grację.\n",
    "22. W przedstawieniach teatralnych i baletowych, taniec jest integralną częścią fabuły i opowieści, tworząc napięcie i emocje.\n",
    "23. Na imprezach okolicznościowych, goście chętnie tańczą, tworząc radosną atmosferę i okazję do integracji.\n",
    "24. W sztukach walki, taniec może być elementem treningu, uczącym rytmiki, koordynacji i lekkości ruchów.\n",
    "25. Na zajęciach jogi, uczestnicy uczą się synchronizować ruchy z oddechem, tworząc połączenie między ciałem a umysłem.\n",
    "26. W filmach muzycznych, taniec jest ważnym elementem fabuły, odzwierciedlającym emocje bohaterów i atmosferę miejsca.\n",
    "27. Na festiwalach ulicznych, różne zespoły taneczne prezentują swoje umiejętności w różnorodnych stylach, przyciągając widzów i tworząc atmosferę święta.\n",
    "28. W programach telewizyjnych, taniec może być formą rywalizacji, w której uczestnicy prezentują swoje umiejętności i otrzymują oceny od jurorów.\n",
    "29. Na weselach, goście chętnie tańczą, tworząc radosną atmosferę i okazję do świętowania nowożeńców.\n",
    "30. W spektaklach teatralnych i baletowych, tancerze wcielają się w różne role, tworząc widowisko pełne ekspresji i emocji.\n",
    "31. Na warsztatach tanecznych, uczestnicy uczą się nowych stylów i technik, rozwijając swoją kreatywność i umiejętności.\n",
    "32. W filmach dokumentalnych, taniec może być sposobem na opowiedzenie historii, pokazując kulturę i tradycje różnych społeczności.\n",
    "33. Na turniejach tańca sportowego, zawodnicy rywalizują w różnych kategoriach wagowych i stylach, prezentując swoje umiejętności i techniki.\n",
    "34. W parkach miejskich, specjalne strefy do tańca przyciągają miłośników ruchu i muzyki, tworząc przestrzeń do kreatywnego wyrażania się.\n",
    "35. Na lekcjach wychowania fizycznego, uczniowie uczą się podstawowych kroków i układów tanecznych, rozwijając swoją koordynację i umiejętność pracy w grupie.\n",
    "36. W filmach muzycznych, taniec jest ważnym elementem fabuły, odzwierciedlającym emocje bohaterów i atmosferę miejsca.\n",
    "37. Na festiwalach ulicznych, różne zespoły taneczne prezentują swoje umiejętności w różnorodnych stylach, przyciągając widzów i tworząc atmosferę święta.\n",
    "38. W programach telewizyjnych, taniec może być formą rywalizacji, w której uczestnicy prezentują swoje umiejętności i otrzymują oceny od jurorów.\n",
    "39. Na weselach, goście chętnie tańczą, tworząc radosną atmosferę i okazję do świętowania nowożeńców.\n",
    "40. W spektaklach teatralnych i baletowych, tancerze wcielają się w różne role, tworząc widowisko pełne ekspresji i emocji."
   ],
   "metadata": {
    "collapsed": false
   },
   "id": "35afab41dfdce664"
  }
 ],
 "metadata": {
  "kernelspec": {
   "display_name": "Python 3",
   "language": "python",
   "name": "python3"
  },
  "language_info": {
   "codemirror_mode": {
    "name": "ipython",
    "version": 2
   },
   "file_extension": ".py",
   "mimetype": "text/x-python",
   "name": "python",
   "nbconvert_exporter": "python",
   "pygments_lexer": "ipython2",
   "version": "2.7.6"
  }
 },
 "nbformat": 4,
 "nbformat_minor": 5
}
