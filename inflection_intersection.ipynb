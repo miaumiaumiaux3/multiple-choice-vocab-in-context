{
 "cells": [
  {
   "cell_type": "markdown",
   "source": [
    "# Lemmatization and Inflection"
   ],
   "metadata": {
    "collapsed": false
   },
   "id": "922c1cedaf79b18d"
  },
  {
   "cell_type": "code",
   "id": "initial_id",
   "metadata": {
    "collapsed": true
   },
   "source": [
    "# !pip install -U spacy -q\n",
    "# #to get lemmainflect -> eng only (even pyinflect recommends using lemminflect instead)\n",
    "# !pip install lemminflect\n",
    "# #md size is minimum that has vectors for words\n",
    "# !python -m spacy download en_core_web_md\n",
    "# !python -m spacy download pl_core_news_md"
   ],
   "outputs": [],
   "execution_count": 34
  },
  {
   "cell_type": "code",
   "source": [
    "import spacy\n",
    "import lemminflect\n",
    "from lemminflect import getLemma, getAllLemmas, getInflection, getAllInflections #might not need, as it can be used as a spaCy extension\n",
    "import collections\n",
    "from collections.abc import Iterable\n",
    "\n",
    "def flatten(xs): #flatten a list of lists\n",
    "    for x in xs:\n",
    "        if isinstance(x, Iterable) and not isinstance(x, (str, bytes)):\n",
    "            yield from flatten(x)\n",
    "        else:\n",
    "            yield x"
   ],
   "metadata": {
    "collapsed": false,
    "ExecuteTime": {
     "end_time": "2024-05-09T18:36:55.884364Z",
     "start_time": "2024-05-09T18:36:55.873475Z"
    }
   },
   "id": "3206790296ed548d",
   "outputs": [],
   "execution_count": 35
  },
  {
   "cell_type": "markdown",
   "source": [
    "## English tests"
   ],
   "metadata": {
    "collapsed": false
   },
   "id": "2ac6cf25076d7301"
  },
  {
   "cell_type": "code",
   "source": [
    "# Load the en_core_web_md model\n",
    "nlp = spacy.load(\"en_core_web_md\")"
   ],
   "metadata": {
    "collapsed": false,
    "ExecuteTime": {
     "end_time": "2024-05-09T18:36:57.386087Z",
     "start_time": "2024-05-09T18:36:55.890364Z"
    }
   },
   "id": "857e12fbf82da989",
   "outputs": [],
   "execution_count": 36
  },
  {
   "cell_type": "markdown",
   "source": [
    "Sample text from Gemini -- \"create 100 sentences using the word 'dancing'\" (only produced 50)"
   ],
   "metadata": {
    "collapsed": false
   },
   "id": "e44e00976289ed6c"
  },
  {
   "cell_type": "code",
   "source": [
    "doc = nlp(\n",
    "    '''The fireflies danced in the twilight, creating a mesmerizing spectacle. \n",
    "    The salsa music was so infectious, everyone ended up dancing.\n",
    "Feeling shy, she pretended not to see his invitation to dance.\n",
    "Rain danced on the windowpane, a rhythmic counterpoint to the music inside.\n",
    "The ballerina's movements were so fluid, it seemed she defied gravity while dancing.\n",
    "The children danced with wild abandon, lost in their own world of imagination.\n",
    "The leaves danced in the autumn breeze, a fiery display of red and orange.\n",
    "He tapped his foot impatiently, eager to get out there and start dancing.\n",
    "The couple swayed slowly in each other's arms, their love story told in every dance step.\n",
    "The choreographer envisioned a dance that captured the essence of springtime.\n",
    "Despite her two left feet, she surprised everyone by dancing the night away.\n",
    "The tribal dancers moved with a primal energy, their bodies painted in vibrant colors.\n",
    "The disco ball spun, casting a thousand shimmering reflections on the dancing crowd.\n",
    "The waves danced on the shore, a constant rhythm against the sandy beach.\n",
    "They practiced their wedding dance every night, determined to avoid any stumbles.\n",
    "The breakdancers defied physics with their acrobatic dance moves.\n",
    "The flamenco dancer's fiery red dress swirled around her as she danced.\n",
    "The old man sat by the window, reminiscing about the days he spent dancing the night away.\n",
    "The entire town came together for the annual dance competition, a celebration of local talent.\n",
    "The raindrops danced on the umbrella, a tiny performance for one.\n",
    "The melody danced through her head, long after the music had stopped.\n",
    "He put on his dancing shoes, ready for a night of fun.\n",
    "The children learned a traditional folk dance from their grandparents.\n",
    "The street performers danced with such passion, they drew a crowd of onlookers.\n",
    "The rhythmic pounding of the drums called them to the dance floor.\n",
    "She dreamt of dancing on a grand stage, bathed in the spotlight.\n",
    "The tango was a dance of love and desire, filled with smoldering looks and intricate steps.\n",
    "The robot danced awkwardly, its movements jerky and mechanical.\n",
    "The synchronized swimmers danced underwater, a graceful ballet in an alien world.\n",
    "The documentary explored the history of ballroom dancing through the ages.\n",
    "The bonfire crackled, casting flickering shadows that danced on the walls.\n",
    "The taste of victory was sweet, and he celebrated by dancing on the field.\n",
    "The artist's brush danced across the canvas, creating a vibrant masterpiece.\n",
    "The detective's mind danced with possibilities, trying to solve the case.\n",
    "He nervously adjusted his tie, preparing to ask her to dance.\n",
    "The wind danced through the wheat fields, creating waves of gold.\n",
    "The taste buds danced on her tongue, savoring the exotic flavors.\n",
    "The flames danced in the fireplace, a warm and comforting sight.\n",
    "The couple danced under the moonlight, their love story written in the stars.\n",
    "The melody danced out of the speakers, filling the room with joy.\n",
    "The party wouldn't be complete without some dancing!\n",
    "The soloist took center stage, ready to wow the audience with their dancing skills.\n",
    "The dance instructor patiently corrected their mistakes, helping them improve their technique.\n",
    "The documentary explored the healing power of dance for people with disabilities.\n",
    "She took a deep breath and stepped onto the dance floor, ready to conquer her stage fright.\n",
    "The children giggled as they danced with their stuffed animals, their imaginations running wild.\n",
    "The competition was fierce, with dancers from all over the world vying for the top prize.\n",
    "He closed his eyes and let the music take over, his body moving instinctively.\n",
    "The waltz was a timeless dance, perfect for a romantic evening.\n",
    "The rhythmic pounding of the drums echoed through the jungle, a call to the ancient dance ritual.'''\n",
    ")\n"
   ],
   "metadata": {
    "collapsed": false,
    "ExecuteTime": {
     "end_time": "2024-05-09T18:36:57.528034Z",
     "start_time": "2024-05-09T18:36:57.388087Z"
    }
   },
   "id": "b7ab77b27394475d",
   "outputs": [],
   "execution_count": 37
  },
  {
   "cell_type": "markdown",
   "source": [
    "### Lemmatization "
   ],
   "metadata": {
    "collapsed": false
   },
   "id": "f7cc93e95542d1f7"
  },
  {
   "cell_type": "code",
   "source": [
    "word = \"dancing\" \n",
    "\n",
    "print(getAllLemmas(word, upos = None))\n",
    "word_lemmas = list(getAllLemmas(word, upos = None).values())\n",
    "print(word_lemmas, \"first entry: \", word_lemmas[0][0])\n",
    "word_inflections = getAllInflections(word_lemmas[0][0], upos=None) #doesn't work for \"Testing\"\n",
    "print(word_inflections)\n",
    "word_inflection_list = list(flatten(list(word_inflections.values())))\n",
    "print(word_inflection_list)"
   ],
   "metadata": {
    "collapsed": false,
    "ExecuteTime": {
     "end_time": "2024-05-09T18:36:57.536743Z",
     "start_time": "2024-05-09T18:36:57.529035Z"
    }
   },
   "id": "d9a02ecc8a38223e",
   "outputs": [
    {
     "name": "stdout",
     "output_type": "stream",
     "text": [
      "{'VERB': ('dance',)}\n",
      "[('dance',)] first entry:  dance\n",
      "{'NNS': ('dances', 'dance'), 'NN': ('dance',), 'VBD': ('danced',), 'VBG': ('dancing',), 'VBZ': ('dances',), 'VB': ('dance',), 'VBP': ('dance',)}\n",
      "['dances', 'dance', 'dance', 'danced', 'dancing', 'dances', 'dance', 'dance']\n"
     ]
    }
   ],
   "execution_count": 38
  },
  {
   "cell_type": "markdown",
   "source": [
    "So the only lemma for dancing is somehow the verb \"dance\", despite the face that \"dancing\" is a gerund and can take the place of nouns and adjectives."
   ],
   "metadata": {
    "collapsed": false
   },
   "id": "c8297a420d7a2a26"
  },
  {
   "cell_type": "code",
   "source": [
    "word = \"dance\" \n",
    "\n",
    "print(getAllLemmas(word, upos = None))\n",
    "word_lemmas = list(getAllLemmas(word, upos = None).values())\n",
    "print(word_lemmas, \"first entry: \", word_lemmas[0][0])\n",
    "word_inflections = getAllInflections(word_lemmas[0][0], upos=None) #doesn't work for \"Testing\"\n",
    "print(word_inflections)\n",
    "word_inflection_list = list(set(flatten(list(word_inflections.values()))))\n",
    "print(word_inflection_list)"
   ],
   "metadata": {
    "collapsed": false,
    "ExecuteTime": {
     "end_time": "2024-05-09T18:36:57.548861Z",
     "start_time": "2024-05-09T18:36:57.537743Z"
    }
   },
   "id": "7575bf8ef96d52a",
   "outputs": [
    {
     "name": "stdout",
     "output_type": "stream",
     "text": [
      "{'NOUN': ('dance',), 'VERB': ('dance',)}\n",
      "[('dance',), ('dance',)] first entry:  dance\n",
      "{'NNS': ('dances', 'dance'), 'NN': ('dance',), 'VBD': ('danced',), 'VBG': ('dancing',), 'VBZ': ('dances',), 'VB': ('dance',), 'VBP': ('dance',)}\n",
      "['dancing', 'dances', 'danced', 'dance']\n"
     ]
    }
   ],
   "execution_count": 39
  },
  {
   "cell_type": "markdown",
   "source": [
    "Let's count the POS tags in the text and the POS tags of the inflections of the lemma of the word \"dance\"\n",
    "\n",
    "(if word = \"dancing\", then there is no change)"
   ],
   "metadata": {
    "collapsed": false
   },
   "id": "158e74d7d1daa445"
  },
  {
   "metadata": {},
   "cell_type": "markdown",
   "source": "### What if we need to check all the lemmas and not just the first though?",
   "id": "d1ae3e6e31592a69"
  },
  {
   "metadata": {
    "ExecuteTime": {
     "end_time": "2024-05-09T18:36:57.566342Z",
     "start_time": "2024-05-09T18:36:57.550861Z"
    }
   },
   "cell_type": "code",
   "source": [
    "word = (\"carving\")\n",
    "\n",
    "lem = nlp(word)[0].lemma_\n",
    "print(\"spacy lem: \", lem)\n",
    "\n",
    "print(getAllLemmas(word, upos = None))\n",
    "word_lemmas = list(getAllLemmas(word, upos = None).values())\n",
    "word_lemmas = list(flatten(word_lemmas))\n",
    "print(word_lemmas)\n",
    "\n",
    "all_inflections = []\n",
    "for lem in word_lemmas:\n",
    "    inflections = getAllInflections(lem, upos=None)\n",
    "    print(\"inflections: \", inflections)\n",
    "    all_inflections.append(inflections)\n",
    "\n",
    "print(\"all_inflections\", all_inflections)\n",
    "\n",
    "\n",
    "word_inflection_list = []\n",
    "for inflections in all_inflections:\n",
    "    word_inflection_list.extend(list(set(flatten(list(inflections.values())))))\n",
    "    print(word_inflection_list)\n",
    "\n",
    "word_inflection_list = ' '.join(word_inflection_list)\n",
    "print(word_inflection_list, type(word_inflection_list))\n",
    "word_inflection_list = word_inflection_list.split()\n",
    "print(word_inflection_list, type(word_inflection_list))"
   ],
   "id": "c661f653e46014e2",
   "outputs": [
    {
     "name": "stdout",
     "output_type": "stream",
     "text": [
      "spacy lem:  carve\n",
      "{'NOUN': ('carving',), 'VERB': ('carve',)}\n",
      "['carving', 'carve']\n",
      "inflections:  {'NNS': ('carvings', 'carving'), 'NN': ('carving',)}\n",
      "inflections:  {'VBD': ('carved',), 'VBG': ('carving',), 'VBZ': ('carves',), 'VB': ('carve',), 'VBP': ('carve',)}\n",
      "all_inflections [{'NNS': ('carvings', 'carving'), 'NN': ('carving',)}, {'VBD': ('carved',), 'VBG': ('carving',), 'VBZ': ('carves',), 'VB': ('carve',), 'VBP': ('carve',)}]\n",
      "['carvings', 'carving']\n",
      "['carvings', 'carving', 'carve', 'carving', 'carves', 'carved']\n",
      "carvings carving carve carving carves carved <class 'str'>\n",
      "['carvings', 'carving', 'carve', 'carving', 'carves', 'carved'] <class 'list'>\n"
     ]
    }
   ],
   "execution_count": 40
  },
  {
   "cell_type": "code",
   "source": [
    "pos_count = {}\n",
    "word_pos_count = {}\n",
    "\n",
    "# Count the POS tags\n",
    "for w in doc:\n",
    "    if w.tag_ in pos_count.keys(): #count instances of each POS tag for all words\n",
    "        pos_count[w.tag_] += 1\n",
    "    else:\n",
    "        pos_count[w.tag_] = 1\n",
    "        \n",
    "    if w.lemma_ in word_inflection_list: #count instances of inflections of the word\n",
    "        if w.tag_ in word_pos_count.keys():\n",
    "            word_pos_count[w.tag_] += 1\n",
    "        else:\n",
    "            word_pos_count[w.tag_] = 1\n",
    "\n",
    "print(pos_count) #{'DT': 107, 'NNS': 48, 'VBD': 61, 'IN': 76, 'NN': 138, ',': 42, 'VBG': 26, 'JJ': 54, '.': 50, '_SP': 49, 'RB': 18, 'RP': 3, 'PRP': 20, 'TO': 9, 'VB': 14, 'PRP$': 23, 'POS': 5, 'NNP': 1, 'VBN': 10, 'CC': 9, 'WDT': 2, 'CD': 3, 'MD': 1}\n",
    "print(word_pos_count) #{'VBD': 20, 'VBG': 8, 'VB': 2, 'NN': 17} #for dance, dancing, dances, danced"
   ],
   "metadata": {
    "collapsed": false,
    "ExecuteTime": {
     "end_time": "2024-05-09T18:36:57.576234Z",
     "start_time": "2024-05-09T18:36:57.567342Z"
    }
   },
   "id": "7ce9d5fc005445a3",
   "outputs": [
    {
     "name": "stdout",
     "output_type": "stream",
     "text": [
      "{'DT': 107, 'NNS': 48, 'VBD': 61, 'IN': 76, 'NN': 138, ',': 42, 'VBG': 26, 'JJ': 54, '.': 50, '_SP': 49, 'RB': 18, 'RP': 3, 'PRP': 20, 'TO': 9, 'VB': 14, 'PRP$': 23, 'POS': 5, 'NNP': 1, 'VBN': 10, 'CC': 9, 'WDT': 2, 'CD': 3, 'MD': 1}\n",
      "{}\n"
     ]
    }
   ],
   "execution_count": 41
  },
  {
   "cell_type": "markdown",
   "source": [
    "Problem: \"dancer\" is not included in the list of inflections for \"dancing\", and of course neither is \"breakdancer\". These are considered to be different words with their own lemmas, so capturing them is impossible.\n",
    "\n",
    "In that case, when we generate a sentences, we'll make sure that it includes one of our inflections, and if not, generate a new sentence -- I think that's the best we can do\n",
    "\n"
   ],
   "metadata": {
    "collapsed": false
   },
   "id": "9eb0360f6d9abffc"
  },
  {
   "cell_type": "markdown",
   "source": [
    "### Similarity and word vectors / embeddings"
   ],
   "metadata": {
    "collapsed": false
   },
   "id": "1ca6d055929832f0"
  },
  {
   "cell_type": "markdown",
   "source": [
    "Testing single word similarity with other words, higher value means more similar"
   ],
   "metadata": {
    "collapsed": false
   },
   "id": "f215158a2788e09c"
  },
  {
   "cell_type": "code",
   "source": [
    "# tokens = nlp(\"dance dancing dances danced breakdancer dancer\")\n",
    "# for token in tokens:\n",
    "#     print(token.text, token.has_vector, token.vector_norm, token.is_oov)\n",
    "\n",
    "word1 = nlp(\"dance\")\n",
    "word2 = nlp(\"dancing\")\n",
    "print(word1, \"<->\", word2, word1.similarity(word2))"
   ],
   "metadata": {
    "collapsed": false,
    "ExecuteTime": {
     "end_time": "2024-05-09T18:36:57.610513Z",
     "start_time": "2024-05-09T18:36:57.577235Z"
    }
   },
   "id": "689766149c135b80",
   "outputs": [
    {
     "name": "stdout",
     "output_type": "stream",
     "text": [
      "dance <-> dancing 0.8363790327214612\n"
     ]
    }
   ],
   "execution_count": 42
  },
  {
   "cell_type": "markdown",
   "source": [
    "Other tests:\n",
    "- dance <-> dance 1.0\n",
    "- dance <-> dancing 0.8363789916038513\n",
    "- dancing <-> dances 0.8118761362806426\n",
    "- dances <-> dance 0.869343203002707\n",
    "- dance <-> danced 0.7878954825468811\n",
    "- dance <-> dancer 0.7199643863266643 *(at least it's appropriately high)*\n",
    "- dance <-> breakdancer 0.3378131986121241 *(oof...)*\n",
    "- dancer <-> breakdancer 0.17645725682106514 *(HOW?! o_o)*\n",
    "- break <-> breakdancer 0.4872989887741418 *(that's at least sane)*\n",
    "- dance <-> tango 1.000000079040031\n",
    "- dance <-> waltz 0.40894623727215057\n",
    "- dance <-> walk 0.26834783843045323\n",
    "- run <-> walk 0.5648937353772958\n",
    "- running <-> walking 0.668782694389761\n",
    "- running <-> walk 0.4114890311601812 *(worth comparing lemmas, then...)*\n",
    "\n",
    "**The considerable difference between the results of the last three tells me that we should absolutely do similarity tests based on lemmas, since different inflections are enough to make a big difference**"
   ],
   "metadata": {
    "collapsed": false
   },
   "id": "faea0d6104c8042a"
  },
  {
   "cell_type": "markdown",
   "source": [
    "Testing to see if there's any difference when words are used in a sentence (there isn't, no effect)"
   ],
   "metadata": {
    "collapsed": false
   },
   "id": "44c45e2d24ae70"
  },
  {
   "cell_type": "code",
   "source": [
    "word1 = nlp(\"Salsa is a type of dance.\") #dance is a noun\n",
    "word2 = nlp(\"They dance like crazy at the club.\") #dance is a verb\n",
    "print(word1[5], \"<->\", word2[1], word1[5].similarity(word2[1]))\n",
    "\n",
    "word1 = nlp(\"She took a dance class.\")\n",
    "word2 = nlp(\"They're dancing like crazy at the club.\")\n",
    "print(word1[3], \"<->\", word2[2], word1[3].similarity(word2[2]))"
   ],
   "metadata": {
    "collapsed": false,
    "ExecuteTime": {
     "end_time": "2024-05-09T18:36:57.641237Z",
     "start_time": "2024-05-09T18:36:57.611513Z"
    }
   },
   "id": "1d10861772893af2",
   "outputs": [
    {
     "name": "stdout",
     "output_type": "stream",
     "text": [
      "dance <-> dance 1.0\n",
      "dance <-> dancing 0.8363789916038513\n"
     ]
    }
   ],
   "execution_count": 43
  },
  {
   "cell_type": "markdown",
   "source": [
    "### Inflection and replacement"
   ],
   "metadata": {
    "collapsed": false
   },
   "id": "2c728f133cf8adde"
  },
  {
   "cell_type": "code",
   "source": [
    "#time to whip out lemminflect again\n",
    "\n",
    "replacement = \"test\"\n",
    "\n",
    "# Let's replace the word danced in this sentence with a different word \"test\" that we will inflect to match the POS tag of the original word\n",
    "test_sentence = \"The fireflies danced in the twilight, creating a mesmerizing spectacle.\"\n",
    "test_sentence_list = test_sentence.split()\n",
    "\n",
    "# Check if the word we want to replace is in the sentence, if it is, get its index\n",
    "index = None\n",
    "for word in word_inflection_list:\n",
    "    if word in test_sentence_list:\n",
    "        index = test_sentence_list.index(word)\n",
    "        print(word, index)\n",
    "        break\n",
    "\n",
    "if not index:\n",
    "    print(\"Word not found in sentence\")\n",
    "    #in main.py this needs to go to regenerating the sentence\n",
    "\n",
    "# Identify the POS tag of the word we want to replace\n",
    "test_sentence_doc = nlp(test_sentence)\n",
    "pos_tag = test_sentence_doc[index].tag_\n",
    "print(pos_tag)\n",
    "\n",
    "# Inflect replacement word to match the POS tag of the original word\n",
    "replacement = getInflection(replacement, tag = pos_tag)[0]\n",
    "print(replacement)\n",
    "\n",
    "# Match case just in case. Usually for first word in sentence, but let's cover our bases\n",
    "if test_sentence_doc[index].text[0].isupper():\n",
    "    replacement = replacement.capitalize()\n",
    "\n",
    "# Replace the word in the sentence\n",
    "if index:\n",
    "    test_sentence_list[index] = replacement\n",
    "    test_sentence_final = \" \".join(test_sentence_list)\n",
    "    print(test_sentence_final)\n",
    "else:\n",
    "    print(\"Word not found\") #remove me later, this is redundant\n",
    "\n"
   ],
   "metadata": {
    "collapsed": false,
    "ExecuteTime": {
     "end_time": "2024-05-09T18:36:57.756525Z",
     "start_time": "2024-05-09T18:36:57.642238Z"
    }
   },
   "id": "dc40bc2d322bbf58",
   "outputs": [
    {
     "name": "stdout",
     "output_type": "stream",
     "text": [
      "Word not found in sentence\n"
     ]
    },
    {
     "ename": "TypeError",
     "evalue": "'<' not supported between instances of 'NoneType' and 'int'",
     "output_type": "error",
     "traceback": [
      "\u001B[1;31m---------------------------------------------------------------------------\u001B[0m",
      "\u001B[1;31mTypeError\u001B[0m                                 Traceback (most recent call last)",
      "Cell \u001B[1;32mIn[44], line 23\u001B[0m\n\u001B[0;32m     19\u001B[0m     \u001B[38;5;66;03m#in main.py this needs to go to regenerating the sentence\u001B[39;00m\n\u001B[0;32m     20\u001B[0m \n\u001B[0;32m     21\u001B[0m \u001B[38;5;66;03m# Identify the POS tag of the word we want to replace\u001B[39;00m\n\u001B[0;32m     22\u001B[0m test_sentence_doc \u001B[38;5;241m=\u001B[39m nlp(test_sentence)\n\u001B[1;32m---> 23\u001B[0m pos_tag \u001B[38;5;241m=\u001B[39m \u001B[43mtest_sentence_doc\u001B[49m\u001B[43m[\u001B[49m\u001B[43mindex\u001B[49m\u001B[43m]\u001B[49m\u001B[38;5;241m.\u001B[39mtag_\n\u001B[0;32m     24\u001B[0m \u001B[38;5;28mprint\u001B[39m(pos_tag)\n\u001B[0;32m     26\u001B[0m \u001B[38;5;66;03m# Inflect replacement word to match the POS tag of the original word\u001B[39;00m\n",
      "File \u001B[1;32m~\\anaconda3\\envs\\untitled\\lib\\site-packages\\spacy\\tokens\\doc.pyx:502\u001B[0m, in \u001B[0;36mspacy.tokens.doc.Doc.__getitem__\u001B[1;34m()\u001B[0m\n",
      "\u001B[1;31mTypeError\u001B[0m: '<' not supported between instances of 'NoneType' and 'int'"
     ]
    }
   ],
   "execution_count": 44
  },
  {
   "cell_type": "markdown",
   "source": [
    "## Polish tests\n",
    "\n",
    "Should be really similar but changing spaCy's nlp set to polish and using morfeusz (which spaCy already uses for Polish too actually) instead of lemminflect, though Polish grammar rules will either make this while process easier or harder and I'm very curious which it'll be"
   ],
   "metadata": {
    "collapsed": false
   },
   "id": "3e50846f6da505c9"
  },
  {
   "cell_type": "code",
   "source": [
    "#!pip install morfeusz2"
   ],
   "metadata": {
    "collapsed": false,
    "ExecuteTime": {
     "end_time": "2024-05-09T18:36:57.757526Z",
     "start_time": "2024-05-09T18:36:57.757526Z"
    }
   },
   "id": "4f95f61e488013b0",
   "outputs": [],
   "execution_count": null
  },
  {
   "cell_type": "code",
   "source": [
    "nlp = spacy.load(\"pl_core_news_md\")"
   ],
   "metadata": {
    "collapsed": false
   },
   "id": "1a80723a96d4dcc6",
   "outputs": [],
   "execution_count": null
  },
  {
   "cell_type": "code",
   "source": [
    "\n",
    "# Copilot translated sentences from the original English 50\n",
    "doc = nlp(\n",
    "'''Świerszcze tańczyły o zmierzchu, tworząc hipnotyzujący spektakl.\n",
    "Muzyka salsa była tak zaraźliwa, że wszyscy skończyli tańczyć.\n",
    "Czując się nieśmiała, udawała, że nie widzi jego zaproszenia do tańca.\n",
    "Deszcz tańczył na szybie, rytmiczny kontrapunkt do muzyki wewnątrz.\n",
    "Ruchy baletnicy były tak płynne, że wydawało się, że przeciwstawia się grawitacji podczas tańca.\n",
    "Dzieci tańczyły z dziką abnegacją, zagubione w swoim własnym świecie wyobraźni.\n",
    "Liście tańczyły w jesiennym wietrze, ognisty pokaz czerwieni i pomarańczy.\n",
    "On stukał nogą niecierpliwie, chcąc wyjść i zacząć tańczyć.\n",
    "Para kołysała się powoli w ramionach drugiej osoby, ich historia miłości opowiedziana w każdym kroku tanecznym.\n",
    "Choreograf wyobraził sobie taniec, który uchwyciłby istotę wiosny.\n",
    "Mimo swoich dwóch lewych stóp zaskoczyła wszystkich, tańcząc całą noc.\n",
    "Plemienni tancerze poruszali się z pierwotną energią, ich ciała pomalowane w żywych kolorach.\n",
    "Kula dyskotekowa kręciła się, rzucając tysiąc migoczących odbić na tańczącym tłumie.\n",
    "Fale tańczyły na brzegu, stały rytm przeciwko piaszczystej plaży.\n",
    "Ćwiczyli swój taniec weselny każdej nocy, zdeterminowani, by uniknąć jakichkolwiek potknięć.\n",
    "Breakdancerzy przeciwstawiali się fizyce swoimi akrobatycznymi ruchami tanecznymi.\n",
    "Ognisty czerwony strój tancerki flamenco wirował wokół niej, gdy tańczyła.\n",
    "Stary człowiek siedział przy oknie, wspominając dni spędzone na tańczeniu przez całą noc.\n",
    "Całe miasto zebrało się na coroczny konkurs tańca, święto lokalnego talentu.\n",
    "Krople deszczu tańczyły na parasolu, mały występ dla jednej osoby.\n",
    "Melodia tańczyła w jej głowie, długo po tym, jak muzyka ucichła.\n",
    "Założył buty do tańca, gotowy na noc zabawy.\n",
    "Dzieci uczyły się tradycyjnego tańca ludowego od swoich dziadków.\n",
    "Uliczni artyści tańczyli z taką pasją, że przyciągnęli tłum obserwatorów.\n",
    "Rytmiczne uderzenia bębnów wezwały ich na parkiet taneczny.\n",
    "Marzyła o tańcu na wielkiej scenie, kąpana w świetle reflektorów.\n",
    "Tango było tańcem miłości i pożądania, wypełnionym dymiącymi spojrzeniami i złożonymi krokami.\n",
    "Robot tańczył niezgrabnie, jego ruchy szarpane i mechaniczne.\n",
    "Synchroniczni pływacy tańczyli pod wodą, gracja baletu w obcym świecie.\n",
    "Dokumentalista badał historię tańca towarzyskiego na przestrzeni wieków.\n",
    "Ognisko trzeszczało, rzucając migoczące cienie, które tańczyły na ścianach.\n",
    "Smak zwycięstwa był słodki, i świętował tańcząc na polu.\n",
    "Pędzel artysty tańczył po płótnie, tworząc żywy arcydzieło.\n",
    "Umysł detektywa tańczył z możliwościami, próbując rozwiązać sprawę.\n",
    "Nerwowo poprawił krawat, przygotowując się do poproszenia jej o taniec.\n",
    "Wiatr tańczył przez pola pszenicy, tworząc fale złota.\n",
    "Kubki smakowe tańczyły na jej języku, delektując się egzotycznymi smakami.\n",
    "Płomienie tańczyły w kominku, ciepły i pocieszający widok.\n",
    "Para tańczyła w blasku księżyca, ich historia miłości zapisana w gwiazdach.\n",
    "Melodia tańczyła z głośników, wypełniając pokój radością.\n",
    "Impreza nie byłaby kompletna bez trochę tańca!\n",
    "Solista zajął centralną scenę, gotowy zachwycić publiczność swoimi umiejętnościami tanecznymi.\n",
    "Instruktor tańca cierpliwie poprawiał ich błędy, pomagając im poprawić swoją technikę.\n",
    "Dokumentalista badał uzdrawiającą moc tańca dla osób z niepełnosprawnościami.\n",
    "Wzięła głęboki oddech i wkroczyła na parkiet taneczny, gotowa pokonać swoją tremę.\n",
    "Dzieci chichotały, tańcząc ze swoimi pluszowymi zwierzętami, ich wyobraźnia biegnąca dziko.\n",
    "Konkurencja była zacięta, z tancerzami z całego świata walczącymi o główną nagrodę.\n",
    "Zamknął oczy i pozwolił muzyce przejąć kontrolę, jego ciało poruszające się instynktownie.\n",
    "Walca był czasowym tańcem, idealnym na romantyczny wieczór.\n",
    "Rytmiczne uderzenia bębnów odbijały się w dżungli, wezwanie do starożytnego rytuału tanecznego.'''\n",
    ") "
   ],
   "metadata": {
    "collapsed": false
   },
   "id": "272e5bdb3ee5ccf9",
   "outputs": [],
   "execution_count": null
  },
  {
   "cell_type": "code",
   "source": [
    "\n",
    "# From Gemini \"Napisz 100 zdania, w ktorych się pojawia słowo 'taniec'.\" --only produced 41\n",
    "doc2 = nlp('''\n",
    "Taniec to forma wyrażania siebie poprzez ruch ciała, często w rytm muzyki.\n",
    "Istnieje wiele różnych stylów tańca, od tańców towarzyskich po tańce ludowe i baletowe.\n",
    "Taniec może być zarówno formą rozrywki, jak i ćwiczeń.\n",
    "Dobry taniec wymaga koordynacji, płynności i wyrazu.\n",
    "Niektórzy ludzie tańczą dla zabawy, inni dla zawodów, a jeszcze inni dla wyrażenia swojej kultury.\n",
    "Taniec może być sposobem na połączenie się z ludźmi i zbudowanie wspólnoty.\n",
    "Może być również sposobem na wyrażenie emocji, których nie można wyrazić słowami.\n",
    "Muzyka odgrywa ważną rolę w wielu stylach tańca.\n",
    "Tempo, rytm i melodia muzyki mogą wpływać na ruchy tancerza.\n",
    "Niektóre tańce są wykonywane w parach, podczas gdy inne są wykonywane w grupach.\n",
    "Kostiumy i rekwizyty mogą być również używane do urozmaicenia tańca.\n",
    "Taniec może być wykonywany na scenie, w sali balowej lub nawet na ulicy.\n",
    "Nie ma jednego \"właściwego\" sposobu na taniec.\n",
    "Najważniejsze jest, aby bawić się i wyrażać siebie.\n",
    "Istnieje wiele korzyści płynących z tańca, zarówno fizycznych, jak i psychicznych.\n",
    "Taniec może poprawić kondycję, koordynację i równowagę.\n",
    "Może również pomóc zmniejszyć stres, lęk i depresję.\n",
    "Taniec może poprawić samopoczucie i pewność siebie.\n",
    "Może być również świetnym sposobem na poznanie nowych ludzi i nawiązywanie przyjaźni.\n",
    "Jeśli szukasz sposobu na poprawę zdrowia i samopoczucia, taniec jest doskonałym rozwiązaniem.\n",
    "Istnieje wiele różnych miejsc, w których można uczyć się tańca.\n",
    "Możesz zapisać się na zajęcia taneczne w lokalnym studio tańca lub centrum rekreacyjnym.\n",
    "Możesz również znaleźć filmy instruktażowe online lub wziąć udział w warsztatach tanecznych.\n",
    "Niezależnie od tego, jaki styl tańca wybierzesz, na pewno będziesz się świetnie bawić i poprawisz swoje zdrowie.\n",
    "Taniec to świetny sposób na spędzenie wolnego czasu i utrzymanie formy.\n",
    "Może być również świetnym sposobem na nawiązanie kontaktu z przyjaciółmi i rodziną.\n",
    "Jeśli szukasz zabawnego i zdrowego zajęcia, taniec jest idealnym rozwiązaniem.\n",
    "Istnieje wiele różnych rodzajów tańców, więc na pewno znajdziesz taki, który Ci się spodoba.\n",
    "Nie musisz być profesjonalistą, aby cieszyć się tańcem.\n",
    "Najważniejsze jest, aby bawić się i wyrażać siebie.\n",
    "Taniec to świetny sposób na uwolnienie stresu i napięcia.\n",
    "Może być również świetnym sposobem na podniesienie nastroju.\n",
    "Jeśli czujesz się przygnębiony, spróbuj zatańczyć. Możesz się zdziwić, jak dobrze się poczujesz.\n",
    "Taniec to świetny sposób na połączenie z własnym ciałem.\n",
    "Może pomóc ci lepiej zrozumieć swoje ciało i jego możliwości.\n",
    "Taniec może być również świetnym sposobem na budowanie pewności siebie.\n",
    "Kiedy tańczysz, czujesz się silny i potężny.\n",
    "Taniec to świetny sposób na wyrażenie swojej kreatywności.\n",
    "Nie ma żadnych zasad, jeśli chodzi o taniec.\n",
    "Możesz poruszać się w dowolny sposób, jaki tylko czujesz.\n",
    "Taniec to świetny sposób na zabawę i rozrywkę.\n",
    "''')"
   ],
   "metadata": {
    "collapsed": false
   },
   "id": "eba9d29f03739a8f",
   "outputs": [],
   "execution_count": null
  },
  {
   "cell_type": "code",
   "source": [
    "\n",
    "# From Gemini \"Napisz 100 zdań, w których pojawia się słowo 'tańczący'.\" --only produced 39, and idk why but it's literally all past tense verbs (tańczył, tańczyła, tańczyło, tańczyły)\n",
    "doc3 = nlp('''\n",
    "Płomyk świecy tańczył na wietrze, tworząc hipnotyzujące cienie na ścianie.\n",
    "Liście jesienne tańczyły w powietrzu, niczym kolorowe konfetti rzucane przez niewidzialną rękę.\n",
    "Para kochanków tańczyła w blasku księżyca, niczym z romantycznego obrazu.\n",
    "Dzieci tańczyły na plaży, beztroskie i szczęśliwe.\n",
    "Tłum ludzi tańczył na koncercie, porwany rytmem muzyki.\n",
    "Piosenkarz tańczył na scenie, zarażając energią cały tłum.\n",
    "Płomienie tańczyły w kominku, tworząc ciepłą i przytulną atmosferę.\n",
    "Wróżki tańczyły w świetle księżyca, śpiewając magiczne pieśni.\n",
    "Snop światła tańczył na suficie, tworząc abstrakcyjne wzory.\n",
    "Dym z papierosa tańczył w powietrzu, tworząc smugi niczym obrazy.\n",
    "Krople deszczu tańczyły na szybie, tworząc rytmiczny dźwięk.\n",
    "Gwiazdy tańczyły na nocnym niebie, niczym diamenty rozrzucone na czarnym aksamicie.\n",
    "Chmury tańczyły na wietrze, zmieniając kształty niczym leniwe olbrzymy.\n",
    "Pył tańczył w promieniach słonecznych, tworząc złote smugi.\n",
    "Iskry tańczyły w ogniu, niczym małe świetliki.\n",
    "Mydlane bańki tańczyły w powietrzu, mieniąc się wszystkimi kolorami tęczy.\n",
    "Baloniki tańczyły na wietrze, niczym kolorowe duchy.\n",
    "Płatki kwiatów tańczyły w powietrzu, porwane przez pęd wiatru.\n",
    "Pióra tańczyły w powietrzu, niczym anielskie skrzydła.\n",
    "Motyle tańczyły wśród kwiatów, niczym żywe klejnoty.\n",
    "Ptaki tańczyły na niebie, tworząc piękne figury akrobatyczne.\n",
    "Ryby tańczyły w wodzie, niczym srebrne błyskawice.\n",
    "Liście tańczyły na wodzie, niczym małe łódeczki.\n",
    "Fale tańczyły na morzu, niczym morskie potwory.\n",
    "Chmury tańczyły na górskich szczytach, tworząc imponujące widoki.\n",
    "Płotki tańczyły na wietrze, tworząc piękny szum.\n",
    "Liście tańczyły na gałęziach drzew, niczym zielone dzwonki.\n",
    "Gałęzie drzew tańczyły na wietrze, niczym ramiona gigantów.\n",
    "Trawa tańczyła na wietrze, niczym zielony dywan.\n",
    "Kwiaty tańczyły na słońcu, rozchylając swoje płatki niczym uśmiechnięte twarze.\n",
    "Słońce tańczyło na niebie, niczym ognista kula.\n",
    "Księżyc tańczył na nocnym niebie, niczym srebrny talerz.\n",
    "Gwiazdy tańczyły na nocnym niebie, niczym diamenty rozrzucone na czarnym aksamicie.\n",
    "Planety tańczyły wokół słońca, niczym kosmiczny balet.\n",
    "Wszechświat tańczył w rytmie nieznanej siły, tworząc nieskończoną różnorodność.\n",
    "Moje serce tańczyło w rytmie muzyki, wypełniając mnie radością.\n",
    "Moja dusza tańczyła z euforią, czując się wolna i szczęśliwa.\n",
    "Moje myśli tańczyły w mojej głowie, tworząc kreatywne pomysły i rozwiązania.\n",
    "Mój palec tańczył po klawiaturze, tworząc słowa i historie.\n",
    "''')"
   ],
   "metadata": {
    "collapsed": false
   },
   "id": "ba10f1eeac585722",
   "outputs": [],
   "execution_count": null
  },
  {
   "cell_type": "code",
   "source": [
    "\n",
    "#ok, I have no idea why, but I gave it the same prompt, it looped around past 100 and started giving me sentences like this:\n",
    "doc4 = nlp('''\n",
    "W świetle księżyca widać było tańczące sylwetki drzew.\n",
    "Mały chłopiec z radością patrzył na tańczące płomienie w kominku.\n",
    "Para zakochanych tańczyła wirujący walc w blasku świec.\n",
    "Jesienne liście tańczyły na wietrze, tworząc kolorowy wir.\n",
    "Tańczące fontanny przed pałacem zachwycały tłumy turystów.\n",
    "Dzieci bawiły się beztrosko, tańcząc w rytm muzyki.\n",
    "Jej sukienka falowała wokół niej niczym tańczący obłok.\n",
    "Ogień tańczył w jej oczach, gdy opowiadała o swoich pasjach.\n",
    "Płomienie świec tańczyły w rytm muzyki, tworząc magiczną atmosferę.\n",
    "Tańczące gwiazdy na nocnym niebie zachwycały swoim blaskiem.\n",
    "Artysta malował tańczące postaci na płótnie, wyrażając emocje kolorem.\n",
    "Stare fotografie ożyły, gdy tańczące figury z nich uciekły.\n",
    "Wiatr muskał jej włosy, a ona tańczyła niczym swobodny duch.\n",
    "Tańczący cień na ścianie budził w niej strach i fascynację.\n",
    "Jej ruchy były niczym tańczący poemat, pełen gracji i siły.\n",
    "Tańczące litery na ekranie tworzyły hipnotyzujący efekt.\n",
    "W tańcu wyrażała siebie bez słów, dając upust swoim emocjom.\n",
    "Tańczący tłum na koncercie falował niczym morze ludzi.\n",
    "Stary dziadek opowiadał wnukom historie o tańczących duchach.\n",
    "Tańczący smok chiński zachwycał tłumy podczas festiwalu.\n",
    "W tańcu odnalazła sens życia, ucieczkę od codzienności.\n",
    "Tańczące sylwetki na dachu przyciągały wzrok przechodniów.\n",
    "Jej tańce były pełne pasji i energii, porywając widownię.\n",
    "Tańczące w rytm deszczu krople na szybie tworzyły melancholijną melodię.\n",
    "W tańcu połączyła tradycję z nowoczesnością, tworząc coś wyjątkowego.\n",
    "Tańczące marionetki w teatrze zaczarowały dzieci.\n",
    "Stare fotografie ożyły, gdy tańczące figury z nich uciekły.\n",
    "Tańczący cień na ścianie budził w niej strach i fascynację.\n",
    "Jej ruchy były niczym tańczący poemat, pełen gracji i siły.\n",
    "Tańczące litery na ekranie tworzyły hipnotyzujący efekt.\n",
    "W tańcu wyrażała siebie bez słów, dając upust swoim emocjom.\n",
    "Tańczący tłum na koncercie falował niczym morze ludzi.\n",
    "Stary dziadek opowiadał wnukom historie o tańczących duchach.\n",
    "Tańczący smok chiński zachwycał tłumy podczas festiwalu.\n",
    "W tańcu odnalazła sens życia, ucieczkę od codzienności.\n",
    "Tańczące sylwetki na dachu przyciągały wzrok przechodniów.\n",
    "Jej tańce były pełne pasji i energii, porywając widownię.\n",
    "Tańczące w rytm deszczu krople na szybie tworzyły melancholijną melodię.\n",
    "W tańcu połączyła tradycję z nowoczesnością, tworząc coś wyjątkowego.\n",
    "Tańczące marionetki w teatrze zaczarowały dzieci.\n",
    "''')"
   ],
   "metadata": {
    "collapsed": false
   },
   "id": "32518cc5b9034542",
   "outputs": [],
   "execution_count": null
  },
  {
   "cell_type": "code",
   "source": [
    "\n",
    "#Napisz 40 zdania, w ktorych się pojawia słowo 'tańcząc', doesn't seem to understand the form but does it's best. Honestly cute :3\n",
    "doc5 = nlp('''\n",
    "Liście tańczą na wietrze, tworząc jesienną symfonię kolorów.\n",
    "Płomienie tańczą w kominku, rozświetlając ciepłym blaskiem pokój.\n",
    "Gwiazdy tańczą na nocnym niebie, niczym diamenty rozsypane na czarnym aksamicie.\n",
    "Dzieci tańczą na łące, beztroskie i radosne, niczym motyle na wietrze.\n",
    "Para tańczy w rytmie tanga, ich ciała poruszają się w zmysłowym uniesieniu.\n",
    "Płatki śniegu tańczą z nieba, niczym małe białe baletnice.\n",
    "Krople deszczu tańczą na parapecie, tworząc rytmiczną melodię.\n",
    "Słońce tańczy na horyzoncie, malując niebo barwami pomarańczy i różu.\n",
    "Cienie tańczą na ścianie, niczym duchy z przeszłości.\n",
    "Myśli tańczą w mojej głowie, tworząc wir pomysłów i inspiracji.\n",
    "Palce tańczą po klawiaturze, tworząc muzykę słów.\n",
    "Stopy tańczą po parkiecie, podążając za rytmem muzyki.\n",
    "Serce tańczą w piersi, wypełnione radością i miłością.\n",
    "Dusza tańczy w ekstazie, poruszona pięknem otaczającego świata.\n",
    "Wyobraźnia tańczy swobodnie, tworząc surrealistyczne obrazy.\n",
    "Czas tańczy nieubłaganie, nie dając się zatrzymać ani cofnąć.\n",
    "Życie tańczy niczym szalony wir, pełen wzlotów i upadków.\n",
    "Sztuka tańczy na płótnie, wyrażając emocje i uczucia artysty.\n",
    "Poezja tańczy w słowach, tworząc piękne i wzruszające utwory.\n",
    "Muzyka tańczy w powietrzu, poruszając dusze słuchaczy.\n",
    "Słowa tańczą na kartce papieru, opowiadając historie i dzieląc się wiedzą.\n",
    "Uśmiech tańczy na ustach, zarażając radością i optymizmem.\n",
    "Łzy tańczą na policzkach, wyrażając smutek i żal.\n",
    "Gniew tańczy w oczach, niczym ogień trawiący złość.\n",
    "Strach tańczy w ciele, paraliżując ruchy i myśli.\n",
    "Nadzieja tańczy w sercu, dając siłę do walki i pokonywania przeciwności.\n",
    "Wiara tańczy w duszy, prowadząc ku lepszej przyszłości.\n",
    "Miłość tańczy w całym ciele, niczym euforyczny wir namiętności.\n",
    "Szczęście tańczy w oczach, niczym gwiazdy rozświetlające noc.\n",
    "Wdzięczność tańczy w sercu, niczym pieśń chwały dla życia.\n",
    "Tańczące słowa tworzą poezję, poruszającą serca i umysły.\n",
    "Tańczące dźwięki tworzą muzykę, niosącą radość i ukojenie.\n",
    "Tańczące kolory tworzą sztukę, wyrażającą piękno i emocje.\n",
    "Tańczące światło tworzy magię, zaczarowując wyobraźnię.\n",
    "Tańczący wiatr szepcze sekrety natury, opowiadając historie o życiu i śmierci.\n",
    "Tańczące fale mrugają do brzegu, niczym srebrne ryby w słońcu.\n",
    "Tańczące chmury płyną po niebie, niczym białe okręty na bezkresnym oceanie.\n",
    "Tańczące płomienie grzeją nasze ciała i dusze, niosąc ciepło i bezpieczeństwo.\n",
    "Tańczące gwiazdy oświetlają nocny nieb, niczym diamenty rozsypane na czarnym aksamicie.\n",
    "Tańczący świat wokół nas jest pełen piękna i cudów, wystarczy tylko otworzyć oczy i serce, aby je dostrzec.\n",
    "''')"
   ],
   "metadata": {
    "collapsed": false
   },
   "id": "532246a1c8ca687e",
   "outputs": [],
   "execution_count": null
  },
  {
   "cell_type": "code",
   "source": [
    "\n",
    "# Napisz 40 zdania, w ktorych się pojawia słowo 'tańczyć' -- most form variety here, though one of them actually even forgot the word entirely, I put it at the bottom\n",
    "doc6 = nlp('''\n",
    "Uwielbiam tańczyć w deszczu, czując krople uderzające o moją skórę.\n",
    "Muzyka pulsowała w jej żyłach, każąc jej tańczyć bezwiednie.\n",
    "Dzieci tańczyły beztrosko na łące, ciesząc się ciepłym dniem.\n",
    "Para tańczyła tango z taką namiętnością, jakby nikt inny nie istniał.\n",
    "Stary człowiek tańczył z radością, wspominając młodość.\n",
    "Młoda dziewczyna tańczyła balet z niezwykłą gracją.\n",
    "Tłum tańczył w rytm muzyki, tworząc falę ludzkich ciał.\n",
    "Ptaki tańczyły na niebie, tworząc choreografię ze swoich skrzydeł.\n",
    "Liście tańczyły na wietrze, szepcąc tajemnice lata.\n",
    "Płomienie tańczyły w kominku, otulając pokój ciepłem.\n",
    "Jego palce tańczyły po klawiaturze, tworząc piękną melodię.\n",
    "Słowa tańczyły na papierze, opowiadając historię pełną emocji.\n",
    "Moje myśli tańczyły w głowie, tworząc wir pomysłów.\n",
    "Wyobraźnia tańczyła swobodnie, nie znając granic.\n",
    "Czas tańczył nieubłaganie, niosąc ze sobą zmiany.\n",
    "Życie tańczyło dalej, mimo bólu i strat.\n",
    "Nadzieja tańczyła w sercu, dając siłę do walki.\n",
    "Miłość tańczyła dookoła, łącząc ludzi niewidzialną nicią.\n",
    "Tańczymy w rytmie natury, poddani jej prawom.\n",
    "Taniec to język duszy, wyrażający to, co niewypowiedziane.\n",
    "W tańcu odnajdujemy wolność i siebie.\n",
    "Nie ma znaczenia, jak tańczysz, ważne, byś tańczył z całego serca.\n",
    "Taniec to radość życia, świętujmy każdy ruch.\n",
    "Niech muzyka porwie Cię do tańca i daj się ponieść emocjom.\n",
    "Tańcz tak, jakby nikt nie patrzył, i poczuj magię chwili.\n",
    "Niech taniec stanie się Twoją modlitwą, a każdy krok drogą do szczęścia.\n",
    "Otwórz się na muzykę i pozwól ciału tańczyć, opowiadając swoją historię.\n",
    "Taniec to nie tylko ruch, to sztuka, emocje i sposób na wyrażenie siebie.\n",
    "Odkryj w sobie tancerza i poczuj magię ruchu.\n",
    "Niech każdy dzień będzie tańcem, a każdy krok przybliżał Cię do marzeń.\n",
    "Tańcz dla siebie, dla innych, dla świata. Niech Twój taniec będzie źródłem inspiracji.\n",
    "Tańcz z uśmiechem na twarzy i niech radość wypełni Twoje serce.\n",
    "Niech taniec stanie się Twoją pasją i sposobem na życie.\n",
    "Odkrywaj nowe style, nowe kroki i nowe sposoby wyrażania siebie w tańcu.\n",
    "Tańcz, bo to najlepszy sposób na połączenie się z ciałem, duchem i światem.\n",
    "Niech taniec będzie Twoją modlitwą, a każdy krok drogą do szczęścia.\n",
    "Pozwól muzyce prowadzić Cię i poczuj rytm życia w każdym kroku.\n",
    "''')"
   ],
   "metadata": {
    "collapsed": false
   },
   "id": "4a323631e2bb5630",
   "outputs": [],
   "execution_count": null
  },
  {
   "cell_type": "markdown",
   "source": [
    "### From our actual desired LLM -- Quantized Bielik Instruct -- \"Napisz 40 zdań, w których pojawia się słowo 'tańczyć'.\"\n",
    "I immediately noticed that these sentences are longer than what gemini produced. Better, though? Subjective."
   ],
   "metadata": {
    "collapsed": false
   },
   "id": "7b35bf46e2e64625"
  },
  {
   "cell_type": "code",
   "source": [
    "doc_bielik = nlp('''\n",
    "Ona potrafi pięknie tańczyć, a jej ruchy na parkiecie hipnotyzują wszystkich wokół.\n",
    "W sobotni wieczór miasto tętniło muzyką, a ludzie ochoczo wyszli na ulice, by tańczyć.\n",
    "Taniec to jej pasja, poświęca wiele czasu na doskonalenie swoich umiejętności i występy.\n",
    "Na balu wszyscy tańczyli w rytm muzyki, ciesząc się każdym krokiem i chwilą spędzoną razem.\n",
    "On zawsze potrafi dostosować swoje ruchy do muzyki, wplatając w taniec swoją osobowość.\n",
    "Podczas jogi, uczestnicy uczą się synchronizować swoje ruchy z oddechem, co pomaga w medytacyjnym doświadczeniu tańca.\n",
    "Jej ulubiony styl tańca to salsa, dzięki której może wyrazić swoją osobowość i energię.\n",
    "Na scenie tancerze tworzą żywe dzieła sztuki, ich ruchy i wyrazy twarzy opowiadają historie bez słów.\n",
    "W szkole tańca dzieci uczą się podstawowych kroków i układów choreograficznych, rozwijając swoją koordynację i miłość do ruchu.\n",
    "Taniec to sposób na wyrażenie emocji i uwolnienie się od codziennych trosk.\n",
    "Na turnieju tańca nowoczesnego każda formacja prezentuje swoje umiejętności, rywalizując z innymi zespołami.\n",
    "W trakcie warsztatów tanecznych uczestnicy uczą się nowych stylów i technik, rozwijając swoje umiejętności i kreatywność.\n",
    "Taniec może być terapeutyczny, pomagając w uwolnieniu emocji i redukcji stresu.\n",
    "Na pokazie mody, projektanci i modele wspólnie tańczą, tworząc widowisko, które podkreśla kolekcję i jej przesłanie.\n",
    "W teledyskach tancerze wcielają się w różne role, opowiadając historie piosenek za pomocą swojego ciała.\n",
    "Na festiwalu tańca, różne zespoły i soliści prezentują swoje umiejętności w różnorodnych stylach, tworząc widowisko pełne kolorów i emocji.\n",
    "Taniec może łączyć ludzi, tworząc wspólnotę i więzi poprzez wspólne doświadczenia taneczne.\n",
    "Na lekcjach tańca instruktorzy uczą uczniów nie tylko konkretnych kroków, ale także ekspresji i interpretacji muzyki.\n",
    "Taniec może być sposobem na poznanie nowych ludzi i zawarcie przyjaźni, poprzez uczestnictwo w zajęciach grupowych lub wydarzeniach tanecznych.\n",
    "W filmach i serialach, taniec często służy jako środek wyrazu, podkreślając emocje postaci i budując napięcie w fabule.\n",
    "Na turniejach tańca towarzyskiego pary rywalizują w różnych stylach, prezentując swoje umiejętności i grację.\n",
    "W przedstawieniach teatralnych i baletowych, taniec jest integralną częścią fabuły i opowieści, tworząc napięcie i emocje.\n",
    "Na imprezach okolicznościowych, goście chętnie tańczą, tworząc radosną atmosferę i okazję do integracji.\n",
    "W sztukach walki, taniec może być elementem treningu, uczącym rytmiki, koordynacji i lekkości ruchów.\n",
    "Na zajęciach jogi, uczestnicy uczą się synchronizować ruchy z oddechem, tworząc połączenie między ciałem a umysłem.\n",
    "W filmach muzycznych, taniec jest ważnym elementem fabuły, odzwierciedlającym emocje bohaterów i atmosferę miejsca.\n",
    "Na festiwalach ulicznych, różne zespoły taneczne prezentują swoje umiejętności w różnorodnych stylach, przyciągając widzów i tworząc atmosferę święta.\n",
    "W programach telewizyjnych, taniec może być formą rywalizacji, w której uczestnicy prezentują swoje umiejętności i otrzymują oceny od jurorów.\n",
    "Na weselach, goście chętnie tańczą, tworząc radosną atmosferę i okazję do świętowania nowożeńców.\n",
    "W spektaklach teatralnych i baletowych, tancerze wcielają się w różne role, tworząc widowisko pełne ekspresji i emocji.\n",
    "Na warsztatach tanecznych, uczestnicy uczą się nowych stylów i technik, rozwijając swoją kreatywność i umiejętności.\n",
    "W filmach dokumentalnych, taniec może być sposobem na opowiedzenie historii, pokazując kulturę i tradycje różnych społeczności.\n",
    "Na turniejach tańca sportowego, zawodnicy rywalizują w różnych kategoriach wagowych i stylach, prezentując swoje umiejętności i techniki.\n",
    "W parkach miejskich, specjalne strefy do tańca przyciągają miłośników ruchu i muzyki, tworząc przestrzeń do kreatywnego wyrażania się.\n",
    "Na lekcjach wychowania fizycznego, uczniowie uczą się podstawowych kroków i układów tanecznych, rozwijając swoją koordynację i umiejętność pracy w grupie.\n",
    "W filmach muzycznych, taniec jest ważnym elementem fabuły, odzwierciedlającym emocje bohaterów i atmosferę miejsca.\n",
    "Na festiwalach ulicznych, różne zespoły taneczne prezentują swoje umiejętności w różnorodnych stylach, przyciągając widzów i tworząc atmosferę święta.\n",
    "W programach telewizyjnych, taniec może być formą rywalizacji, w której uczestnicy prezentują swoje umiejętności i otrzymują oceny od jurorów.\n",
    "Na weselach, goście chętnie tańczą, tworząc radosną atmosferę i okazję do świętowania nowożeńców.\n",
    "W spektaklach teatralnych i baletowych, tancerze wcielają się w różne role, tworząc widowisko pełne ekspresji i emocji.\n",
    "''')"
   ],
   "metadata": {
    "collapsed": false
   },
   "id": "e61b3cb92c12a09e",
   "outputs": [],
   "execution_count": null
  },
  {
   "cell_type": "markdown",
   "source": [],
   "metadata": {
    "collapsed": false
   },
   "id": "207dfc8fb08bf858"
  }
 ],
 "metadata": {
  "kernelspec": {
   "display_name": "Python 3",
   "language": "python",
   "name": "python3"
  },
  "language_info": {
   "codemirror_mode": {
    "name": "ipython",
    "version": 2
   },
   "file_extension": ".py",
   "mimetype": "text/x-python",
   "name": "python",
   "nbconvert_exporter": "python",
   "pygments_lexer": "ipython2",
   "version": "2.7.6"
  }
 },
 "nbformat": 4,
 "nbformat_minor": 5
}
