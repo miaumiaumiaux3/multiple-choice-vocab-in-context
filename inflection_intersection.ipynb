{
 "cells": [
  {
   "cell_type": "markdown",
   "source": [
    "# Lemmatization and Inflection"
   ],
   "metadata": {
    "collapsed": false
   },
   "id": "922c1cedaf79b18d"
  },
  {
   "cell_type": "code",
   "execution_count": 32,
   "id": "initial_id",
   "metadata": {
    "collapsed": true,
    "ExecuteTime": {
     "end_time": "2024-04-14T12:46:44.171510Z",
     "start_time": "2024-04-14T12:46:18.387801Z"
    }
   },
   "outputs": [
    {
     "name": "stdout",
     "output_type": "stream",
     "text": [
      "Requirement already satisfied: lemminflect in c:\\users\\chase\\anaconda3\\envs\\untitled\\lib\\site-packages (0.2.3)\n",
      "Requirement already satisfied: numpy in c:\\users\\chase\\anaconda3\\envs\\untitled\\lib\\site-packages (from lemminflect) (1.24.3)\n",
      "Collecting en-core-web-md==3.7.1\n",
      "  Downloading https://github.com/explosion/spacy-models/releases/download/en_core_web_md-3.7.1/en_core_web_md-3.7.1-py3-none-any.whl (42.8 MB)\n",
      "     ---------------------------------------- 0.0/42.8 MB ? eta -:--:--\n",
      "     ---------------------------------------- 0.0/42.8 MB ? eta -:--:--\n",
      "     --------------------------------------- 0.0/42.8 MB 640.0 kB/s eta 0:01:07\n",
      "     ---------------------------------------- 0.1/42.8 MB 1.1 MB/s eta 0:00:40\n",
      "     ---------------------------------------- 0.4/42.8 MB 2.7 MB/s eta 0:00:16\n",
      "      --------------------------------------- 0.8/42.8 MB 4.0 MB/s eta 0:00:11\n",
      "     - -------------------------------------- 1.6/42.8 MB 6.6 MB/s eta 0:00:07\n",
      "     --- ------------------------------------ 4.3/42.8 MB 14.3 MB/s eta 0:00:03\n",
      "     ------- -------------------------------- 8.2/42.8 MB 24.9 MB/s eta 0:00:02\n",
      "     ------- -------------------------------- 8.2/42.8 MB 24.9 MB/s eta 0:00:02\n",
      "     -------- ------------------------------- 9.5/42.8 MB 21.7 MB/s eta 0:00:02\n",
      "     ------------- ------------------------- 15.1/42.8 MB 59.5 MB/s eta 0:00:01\n",
      "     ----------------- --------------------- 19.0/42.8 MB 93.0 MB/s eta 0:00:01\n",
      "     ------------------- ------------------- 21.1/42.8 MB 81.8 MB/s eta 0:00:01\n",
      "     --------------------- ----------------- 23.3/42.8 MB 59.8 MB/s eta 0:00:01\n",
      "     ----------------------- --------------- 25.5/42.8 MB 54.7 MB/s eta 0:00:01\n",
      "     ------------------------- ------------- 27.5/42.8 MB 46.7 MB/s eta 0:00:01\n",
      "     --------------------------- ----------- 29.8/42.8 MB 43.7 MB/s eta 0:00:01\n",
      "     ---------------------------- ---------- 31.8/42.8 MB 43.7 MB/s eta 0:00:01\n",
      "     ------------------------------- ------- 34.2/42.8 MB 43.5 MB/s eta 0:00:01\n",
      "     -------------------------------- ------ 36.1/42.8 MB 46.7 MB/s eta 0:00:01\n",
      "     ---------------------------------- ---- 38.4/42.8 MB 46.7 MB/s eta 0:00:01\n",
      "     ------------------------------------ -- 40.6/42.8 MB 50.4 MB/s eta 0:00:01\n",
      "     --------------------------------------  42.8/42.8 MB 46.7 MB/s eta 0:00:01\n",
      "     --------------------------------------  42.8/42.8 MB 46.7 MB/s eta 0:00:01\n",
      "     --------------------------------------  42.8/42.8 MB 46.7 MB/s eta 0:00:01\n",
      "     --------------------------------------  42.8/42.8 MB 46.7 MB/s eta 0:00:01\n",
      "     --------------------------------------  42.8/42.8 MB 46.7 MB/s eta 0:00:01\n",
      "     --------------------------------------  42.8/42.8 MB 46.7 MB/s eta 0:00:01\n",
      "     --------------------------------------  42.8/42.8 MB 46.7 MB/s eta 0:00:01\n",
      "     --------------------------------------  42.8/42.8 MB 46.7 MB/s eta 0:00:01\n",
      "     --------------------------------------  42.8/42.8 MB 46.7 MB/s eta 0:00:01\n",
      "     --------------------------------------  42.8/42.8 MB 46.7 MB/s eta 0:00:01\n",
      "     --------------------------------------  42.8/42.8 MB 46.7 MB/s eta 0:00:01\n",
      "     --------------------------------------- 42.8/42.8 MB 14.5 MB/s eta 0:00:00\n",
      "Requirement already satisfied: spacy<3.8.0,>=3.7.2 in c:\\users\\chase\\anaconda3\\envs\\untitled\\lib\\site-packages (from en-core-web-md==3.7.1) (3.7.4)\n",
      "Requirement already satisfied: spacy-legacy<3.1.0,>=3.0.11 in c:\\users\\chase\\anaconda3\\envs\\untitled\\lib\\site-packages (from spacy<3.8.0,>=3.7.2->en-core-web-md==3.7.1) (3.0.12)\n",
      "Requirement already satisfied: spacy-loggers<2.0.0,>=1.0.0 in c:\\users\\chase\\anaconda3\\envs\\untitled\\lib\\site-packages (from spacy<3.8.0,>=3.7.2->en-core-web-md==3.7.1) (1.0.5)\n",
      "Requirement already satisfied: murmurhash<1.1.0,>=0.28.0 in c:\\users\\chase\\anaconda3\\envs\\untitled\\lib\\site-packages (from spacy<3.8.0,>=3.7.2->en-core-web-md==3.7.1) (1.0.10)\n",
      "Requirement already satisfied: cymem<2.1.0,>=2.0.2 in c:\\users\\chase\\anaconda3\\envs\\untitled\\lib\\site-packages (from spacy<3.8.0,>=3.7.2->en-core-web-md==3.7.1) (2.0.8)\n",
      "Requirement already satisfied: preshed<3.1.0,>=3.0.2 in c:\\users\\chase\\anaconda3\\envs\\untitled\\lib\\site-packages (from spacy<3.8.0,>=3.7.2->en-core-web-md==3.7.1) (3.0.9)\n",
      "Requirement already satisfied: thinc<8.3.0,>=8.2.2 in c:\\users\\chase\\anaconda3\\envs\\untitled\\lib\\site-packages (from spacy<3.8.0,>=3.7.2->en-core-web-md==3.7.1) (8.2.3)\n",
      "Requirement already satisfied: wasabi<1.2.0,>=0.9.1 in c:\\users\\chase\\anaconda3\\envs\\untitled\\lib\\site-packages (from spacy<3.8.0,>=3.7.2->en-core-web-md==3.7.1) (1.1.2)\n",
      "Requirement already satisfied: srsly<3.0.0,>=2.4.3 in c:\\users\\chase\\anaconda3\\envs\\untitled\\lib\\site-packages (from spacy<3.8.0,>=3.7.2->en-core-web-md==3.7.1) (2.4.8)\n",
      "Requirement already satisfied: catalogue<2.1.0,>=2.0.6 in c:\\users\\chase\\anaconda3\\envs\\untitled\\lib\\site-packages (from spacy<3.8.0,>=3.7.2->en-core-web-md==3.7.1) (2.0.10)\n",
      "Requirement already satisfied: weasel<0.4.0,>=0.1.0 in c:\\users\\chase\\anaconda3\\envs\\untitled\\lib\\site-packages (from spacy<3.8.0,>=3.7.2->en-core-web-md==3.7.1) (0.3.4)\n",
      "Requirement already satisfied: typer<0.10.0,>=0.3.0 in c:\\users\\chase\\anaconda3\\envs\\untitled\\lib\\site-packages (from spacy<3.8.0,>=3.7.2->en-core-web-md==3.7.1) (0.9.4)\n",
      "Requirement already satisfied: smart-open<7.0.0,>=5.2.1 in c:\\users\\chase\\anaconda3\\envs\\untitled\\lib\\site-packages (from spacy<3.8.0,>=3.7.2->en-core-web-md==3.7.1) (6.4.0)\n",
      "Requirement already satisfied: tqdm<5.0.0,>=4.38.0 in c:\\users\\chase\\anaconda3\\envs\\untitled\\lib\\site-packages (from spacy<3.8.0,>=3.7.2->en-core-web-md==3.7.1) (4.66.2)\n",
      "Requirement already satisfied: requests<3.0.0,>=2.13.0 in c:\\users\\chase\\anaconda3\\envs\\untitled\\lib\\site-packages (from spacy<3.8.0,>=3.7.2->en-core-web-md==3.7.1) (2.31.0)\n",
      "Requirement already satisfied: pydantic!=1.8,!=1.8.1,<3.0.0,>=1.7.4 in c:\\users\\chase\\anaconda3\\envs\\untitled\\lib\\site-packages (from spacy<3.8.0,>=3.7.2->en-core-web-md==3.7.1) (2.6.4)\n",
      "Requirement already satisfied: jinja2 in c:\\users\\chase\\anaconda3\\envs\\untitled\\lib\\site-packages (from spacy<3.8.0,>=3.7.2->en-core-web-md==3.7.1) (3.1.3)\n",
      "Requirement already satisfied: setuptools in c:\\users\\chase\\anaconda3\\envs\\untitled\\lib\\site-packages (from spacy<3.8.0,>=3.7.2->en-core-web-md==3.7.1) (68.2.2)\n",
      "Requirement already satisfied: packaging>=20.0 in c:\\users\\chase\\anaconda3\\envs\\untitled\\lib\\site-packages (from spacy<3.8.0,>=3.7.2->en-core-web-md==3.7.1) (23.2)\n",
      "Requirement already satisfied: langcodes<4.0.0,>=3.2.0 in c:\\users\\chase\\anaconda3\\envs\\untitled\\lib\\site-packages (from spacy<3.8.0,>=3.7.2->en-core-web-md==3.7.1) (3.3.0)\n",
      "Requirement already satisfied: numpy>=1.15.0 in c:\\users\\chase\\anaconda3\\envs\\untitled\\lib\\site-packages (from spacy<3.8.0,>=3.7.2->en-core-web-md==3.7.1) (1.24.3)\n",
      "Requirement already satisfied: annotated-types>=0.4.0 in c:\\users\\chase\\anaconda3\\envs\\untitled\\lib\\site-packages (from pydantic!=1.8,!=1.8.1,<3.0.0,>=1.7.4->spacy<3.8.0,>=3.7.2->en-core-web-md==3.7.1) (0.6.0)\n",
      "Requirement already satisfied: pydantic-core==2.16.3 in c:\\users\\chase\\anaconda3\\envs\\untitled\\lib\\site-packages (from pydantic!=1.8,!=1.8.1,<3.0.0,>=1.7.4->spacy<3.8.0,>=3.7.2->en-core-web-md==3.7.1) (2.16.3)\n",
      "Requirement already satisfied: typing-extensions>=4.6.1 in c:\\users\\chase\\anaconda3\\envs\\untitled\\lib\\site-packages (from pydantic!=1.8,!=1.8.1,<3.0.0,>=1.7.4->spacy<3.8.0,>=3.7.2->en-core-web-md==3.7.1) (4.9.0)\n",
      "Requirement already satisfied: charset-normalizer<4,>=2 in c:\\users\\chase\\anaconda3\\envs\\untitled\\lib\\site-packages (from requests<3.0.0,>=2.13.0->spacy<3.8.0,>=3.7.2->en-core-web-md==3.7.1) (2.0.4)\n",
      "Requirement already satisfied: idna<4,>=2.5 in c:\\users\\chase\\anaconda3\\envs\\untitled\\lib\\site-packages (from requests<3.0.0,>=2.13.0->spacy<3.8.0,>=3.7.2->en-core-web-md==3.7.1) (3.4)\n",
      "Requirement already satisfied: urllib3<3,>=1.21.1 in c:\\users\\chase\\anaconda3\\envs\\untitled\\lib\\site-packages (from requests<3.0.0,>=2.13.0->spacy<3.8.0,>=3.7.2->en-core-web-md==3.7.1) (2.1.0)\n",
      "Requirement already satisfied: certifi>=2017.4.17 in c:\\users\\chase\\anaconda3\\envs\\untitled\\lib\\site-packages (from requests<3.0.0,>=2.13.0->spacy<3.8.0,>=3.7.2->en-core-web-md==3.7.1) (2024.2.2)\n",
      "Requirement already satisfied: blis<0.8.0,>=0.7.8 in c:\\users\\chase\\anaconda3\\envs\\untitled\\lib\\site-packages (from thinc<8.3.0,>=8.2.2->spacy<3.8.0,>=3.7.2->en-core-web-md==3.7.1) (0.7.11)\n",
      "Requirement already satisfied: confection<1.0.0,>=0.0.1 in c:\\users\\chase\\anaconda3\\envs\\untitled\\lib\\site-packages (from thinc<8.3.0,>=8.2.2->spacy<3.8.0,>=3.7.2->en-core-web-md==3.7.1) (0.1.4)\n",
      "Requirement already satisfied: colorama in c:\\users\\chase\\anaconda3\\envs\\untitled\\lib\\site-packages (from tqdm<5.0.0,>=4.38.0->spacy<3.8.0,>=3.7.2->en-core-web-md==3.7.1) (0.4.6)\n",
      "Requirement already satisfied: click<9.0.0,>=7.1.1 in c:\\users\\chase\\anaconda3\\envs\\untitled\\lib\\site-packages (from typer<0.10.0,>=0.3.0->spacy<3.8.0,>=3.7.2->en-core-web-md==3.7.1) (8.1.7)\n",
      "Requirement already satisfied: cloudpathlib<0.17.0,>=0.7.0 in c:\\users\\chase\\anaconda3\\envs\\untitled\\lib\\site-packages (from weasel<0.4.0,>=0.1.0->spacy<3.8.0,>=3.7.2->en-core-web-md==3.7.1) (0.16.0)\n",
      "Requirement already satisfied: MarkupSafe>=2.0 in c:\\users\\chase\\anaconda3\\envs\\untitled\\lib\\site-packages (from jinja2->spacy<3.8.0,>=3.7.2->en-core-web-md==3.7.1) (2.1.3)\n",
      "\u001B[38;5;2m[+] Download and installation successful\u001B[0m\n",
      "You can now load the package via spacy.load('en_core_web_md')\n",
      "Collecting pl-core-news-md==3.7.0\n",
      "  Downloading https://github.com/explosion/spacy-models/releases/download/pl_core_news_md-3.7.0/pl_core_news_md-3.7.0-py3-none-any.whl (49.5 MB)\n",
      "     ---------------------------------------- 0.0/49.5 MB ? eta -:--:--\n",
      "     ---------------------------------------- 0.0/49.5 MB ? eta -:--:--\n",
      "     --------------------------------------- 0.0/49.5 MB 393.8 kB/s eta 0:02:06\n",
      "     --------------------------------------- 0.1/49.5 MB 877.7 kB/s eta 0:00:57\n",
      "     ---------------------------------------- 0.4/49.5 MB 2.3 MB/s eta 0:00:22\n",
      "      --------------------------------------- 0.8/49.5 MB 3.6 MB/s eta 0:00:14\n",
      "     - -------------------------------------- 1.9/49.5 MB 6.8 MB/s eta 0:00:08\n",
      "     --- ------------------------------------ 4.9/49.5 MB 14.9 MB/s eta 0:00:03\n",
      "     ------ --------------------------------- 8.1/49.5 MB 22.5 MB/s eta 0:00:02\n",
      "     ------ --------------------------------- 8.2/49.5 MB 20.1 MB/s eta 0:00:03\n",
      "     ------- -------------------------------- 9.7/49.5 MB 21.4 MB/s eta 0:00:02\n",
      "     -------- ------------------------------ 11.0/49.5 MB 36.4 MB/s eta 0:00:02\n",
      "     --------- ----------------------------- 11.6/49.5 MB 38.5 MB/s eta 0:00:01\n",
      "     ---------- ---------------------------- 13.1/49.5 MB 32.8 MB/s eta 0:00:02\n",
      "     ---------- ---------------------------- 13.9/49.5 MB 31.2 MB/s eta 0:00:02\n",
      "     ------------ -------------------------- 15.4/49.5 MB 28.5 MB/s eta 0:00:02\n",
      "     ------------ -------------------------- 16.4/49.5 MB 25.2 MB/s eta 0:00:02\n",
      "     ------------- ------------------------- 17.3/49.5 MB 22.6 MB/s eta 0:00:02\n",
      "     ----------------- --------------------- 22.4/49.5 MB 36.3 MB/s eta 0:00:01\n",
      "     --------------------- ---------------- 28.1/49.5 MB 110.0 MB/s eta 0:00:01\n",
      "     ------------------------- ------------ 33.4/49.5 MB 131.2 MB/s eta 0:00:01\n",
      "     ----------------------------- -------- 39.0/49.5 MB 108.8 MB/s eta 0:00:01\n",
      "     ---------------------------------- --- 44.5/49.5 MB 131.2 MB/s eta 0:00:01\n",
      "     -------------------------------------  49.3/49.5 MB 108.8 MB/s eta 0:00:01\n",
      "     -------------------------------------  49.5/49.5 MB 108.8 MB/s eta 0:00:01\n",
      "     -------------------------------------  49.5/49.5 MB 108.8 MB/s eta 0:00:01\n",
      "     -------------------------------------  49.5/49.5 MB 108.8 MB/s eta 0:00:01\n",
      "     -------------------------------------  49.5/49.5 MB 108.8 MB/s eta 0:00:01\n",
      "     -------------------------------------  49.5/49.5 MB 108.8 MB/s eta 0:00:01\n",
      "     -------------------------------------  49.5/49.5 MB 108.8 MB/s eta 0:00:01\n",
      "     -------------------------------------  49.5/49.5 MB 108.8 MB/s eta 0:00:01\n",
      "     --------------------------------------- 49.5/49.5 MB 24.2 MB/s eta 0:00:00\n",
      "Requirement already satisfied: spacy<3.8.0,>=3.7.0 in c:\\users\\chase\\anaconda3\\envs\\untitled\\lib\\site-packages (from pl-core-news-md==3.7.0) (3.7.4)\n",
      "Requirement already satisfied: spacy-legacy<3.1.0,>=3.0.11 in c:\\users\\chase\\anaconda3\\envs\\untitled\\lib\\site-packages (from spacy<3.8.0,>=3.7.0->pl-core-news-md==3.7.0) (3.0.12)\n",
      "Requirement already satisfied: spacy-loggers<2.0.0,>=1.0.0 in c:\\users\\chase\\anaconda3\\envs\\untitled\\lib\\site-packages (from spacy<3.8.0,>=3.7.0->pl-core-news-md==3.7.0) (1.0.5)\n",
      "Requirement already satisfied: murmurhash<1.1.0,>=0.28.0 in c:\\users\\chase\\anaconda3\\envs\\untitled\\lib\\site-packages (from spacy<3.8.0,>=3.7.0->pl-core-news-md==3.7.0) (1.0.10)\n",
      "Requirement already satisfied: cymem<2.1.0,>=2.0.2 in c:\\users\\chase\\anaconda3\\envs\\untitled\\lib\\site-packages (from spacy<3.8.0,>=3.7.0->pl-core-news-md==3.7.0) (2.0.8)\n",
      "Requirement already satisfied: preshed<3.1.0,>=3.0.2 in c:\\users\\chase\\anaconda3\\envs\\untitled\\lib\\site-packages (from spacy<3.8.0,>=3.7.0->pl-core-news-md==3.7.0) (3.0.9)\n",
      "Requirement already satisfied: thinc<8.3.0,>=8.2.2 in c:\\users\\chase\\anaconda3\\envs\\untitled\\lib\\site-packages (from spacy<3.8.0,>=3.7.0->pl-core-news-md==3.7.0) (8.2.3)\n",
      "Requirement already satisfied: wasabi<1.2.0,>=0.9.1 in c:\\users\\chase\\anaconda3\\envs\\untitled\\lib\\site-packages (from spacy<3.8.0,>=3.7.0->pl-core-news-md==3.7.0) (1.1.2)\n",
      "Requirement already satisfied: srsly<3.0.0,>=2.4.3 in c:\\users\\chase\\anaconda3\\envs\\untitled\\lib\\site-packages (from spacy<3.8.0,>=3.7.0->pl-core-news-md==3.7.0) (2.4.8)\n",
      "Requirement already satisfied: catalogue<2.1.0,>=2.0.6 in c:\\users\\chase\\anaconda3\\envs\\untitled\\lib\\site-packages (from spacy<3.8.0,>=3.7.0->pl-core-news-md==3.7.0) (2.0.10)\n",
      "Requirement already satisfied: weasel<0.4.0,>=0.1.0 in c:\\users\\chase\\anaconda3\\envs\\untitled\\lib\\site-packages (from spacy<3.8.0,>=3.7.0->pl-core-news-md==3.7.0) (0.3.4)\n",
      "Requirement already satisfied: typer<0.10.0,>=0.3.0 in c:\\users\\chase\\anaconda3\\envs\\untitled\\lib\\site-packages (from spacy<3.8.0,>=3.7.0->pl-core-news-md==3.7.0) (0.9.4)\n",
      "Requirement already satisfied: smart-open<7.0.0,>=5.2.1 in c:\\users\\chase\\anaconda3\\envs\\untitled\\lib\\site-packages (from spacy<3.8.0,>=3.7.0->pl-core-news-md==3.7.0) (6.4.0)\n",
      "Requirement already satisfied: tqdm<5.0.0,>=4.38.0 in c:\\users\\chase\\anaconda3\\envs\\untitled\\lib\\site-packages (from spacy<3.8.0,>=3.7.0->pl-core-news-md==3.7.0) (4.66.2)\n",
      "Requirement already satisfied: requests<3.0.0,>=2.13.0 in c:\\users\\chase\\anaconda3\\envs\\untitled\\lib\\site-packages (from spacy<3.8.0,>=3.7.0->pl-core-news-md==3.7.0) (2.31.0)\n",
      "Requirement already satisfied: pydantic!=1.8,!=1.8.1,<3.0.0,>=1.7.4 in c:\\users\\chase\\anaconda3\\envs\\untitled\\lib\\site-packages (from spacy<3.8.0,>=3.7.0->pl-core-news-md==3.7.0) (2.6.4)\n",
      "Requirement already satisfied: jinja2 in c:\\users\\chase\\anaconda3\\envs\\untitled\\lib\\site-packages (from spacy<3.8.0,>=3.7.0->pl-core-news-md==3.7.0) (3.1.3)\n",
      "Requirement already satisfied: setuptools in c:\\users\\chase\\anaconda3\\envs\\untitled\\lib\\site-packages (from spacy<3.8.0,>=3.7.0->pl-core-news-md==3.7.0) (68.2.2)\n",
      "Requirement already satisfied: packaging>=20.0 in c:\\users\\chase\\anaconda3\\envs\\untitled\\lib\\site-packages (from spacy<3.8.0,>=3.7.0->pl-core-news-md==3.7.0) (23.2)\n",
      "Requirement already satisfied: langcodes<4.0.0,>=3.2.0 in c:\\users\\chase\\anaconda3\\envs\\untitled\\lib\\site-packages (from spacy<3.8.0,>=3.7.0->pl-core-news-md==3.7.0) (3.3.0)\n",
      "Requirement already satisfied: numpy>=1.15.0 in c:\\users\\chase\\anaconda3\\envs\\untitled\\lib\\site-packages (from spacy<3.8.0,>=3.7.0->pl-core-news-md==3.7.0) (1.24.3)\n",
      "Requirement already satisfied: annotated-types>=0.4.0 in c:\\users\\chase\\anaconda3\\envs\\untitled\\lib\\site-packages (from pydantic!=1.8,!=1.8.1,<3.0.0,>=1.7.4->spacy<3.8.0,>=3.7.0->pl-core-news-md==3.7.0) (0.6.0)\n",
      "Requirement already satisfied: pydantic-core==2.16.3 in c:\\users\\chase\\anaconda3\\envs\\untitled\\lib\\site-packages (from pydantic!=1.8,!=1.8.1,<3.0.0,>=1.7.4->spacy<3.8.0,>=3.7.0->pl-core-news-md==3.7.0) (2.16.3)\n",
      "Requirement already satisfied: typing-extensions>=4.6.1 in c:\\users\\chase\\anaconda3\\envs\\untitled\\lib\\site-packages (from pydantic!=1.8,!=1.8.1,<3.0.0,>=1.7.4->spacy<3.8.0,>=3.7.0->pl-core-news-md==3.7.0) (4.9.0)\n",
      "Requirement already satisfied: charset-normalizer<4,>=2 in c:\\users\\chase\\anaconda3\\envs\\untitled\\lib\\site-packages (from requests<3.0.0,>=2.13.0->spacy<3.8.0,>=3.7.0->pl-core-news-md==3.7.0) (2.0.4)\n",
      "Requirement already satisfied: idna<4,>=2.5 in c:\\users\\chase\\anaconda3\\envs\\untitled\\lib\\site-packages (from requests<3.0.0,>=2.13.0->spacy<3.8.0,>=3.7.0->pl-core-news-md==3.7.0) (3.4)\n",
      "Requirement already satisfied: urllib3<3,>=1.21.1 in c:\\users\\chase\\anaconda3\\envs\\untitled\\lib\\site-packages (from requests<3.0.0,>=2.13.0->spacy<3.8.0,>=3.7.0->pl-core-news-md==3.7.0) (2.1.0)\n",
      "Requirement already satisfied: certifi>=2017.4.17 in c:\\users\\chase\\anaconda3\\envs\\untitled\\lib\\site-packages (from requests<3.0.0,>=2.13.0->spacy<3.8.0,>=3.7.0->pl-core-news-md==3.7.0) (2024.2.2)\n",
      "Requirement already satisfied: blis<0.8.0,>=0.7.8 in c:\\users\\chase\\anaconda3\\envs\\untitled\\lib\\site-packages (from thinc<8.3.0,>=8.2.2->spacy<3.8.0,>=3.7.0->pl-core-news-md==3.7.0) (0.7.11)\n",
      "Requirement already satisfied: confection<1.0.0,>=0.0.1 in c:\\users\\chase\\anaconda3\\envs\\untitled\\lib\\site-packages (from thinc<8.3.0,>=8.2.2->spacy<3.8.0,>=3.7.0->pl-core-news-md==3.7.0) (0.1.4)\n",
      "Requirement already satisfied: colorama in c:\\users\\chase\\anaconda3\\envs\\untitled\\lib\\site-packages (from tqdm<5.0.0,>=4.38.0->spacy<3.8.0,>=3.7.0->pl-core-news-md==3.7.0) (0.4.6)\n",
      "Requirement already satisfied: click<9.0.0,>=7.1.1 in c:\\users\\chase\\anaconda3\\envs\\untitled\\lib\\site-packages (from typer<0.10.0,>=0.3.0->spacy<3.8.0,>=3.7.0->pl-core-news-md==3.7.0) (8.1.7)\n",
      "Requirement already satisfied: cloudpathlib<0.17.0,>=0.7.0 in c:\\users\\chase\\anaconda3\\envs\\untitled\\lib\\site-packages (from weasel<0.4.0,>=0.1.0->spacy<3.8.0,>=3.7.0->pl-core-news-md==3.7.0) (0.16.0)\n",
      "Requirement already satisfied: MarkupSafe>=2.0 in c:\\users\\chase\\anaconda3\\envs\\untitled\\lib\\site-packages (from jinja2->spacy<3.8.0,>=3.7.0->pl-core-news-md==3.7.0) (2.1.3)\n",
      "\u001B[38;5;2m[+] Download and installation successful\u001B[0m\n",
      "You can now load the package via spacy.load('pl_core_news_md')\n"
     ]
    }
   ],
   "source": [
    "!pip install -U spacy -q\n",
    "#to get lemmainflect -> eng only (even pyinflect recommends using lemminflect instead)\n",
    "!pip install lemminflect\n",
    "#md size is minimum that has vectors for words\n",
    "!python -m spacy download en_core_web_md\n",
    "!python -m spacy download pl_core_news_md"
   ]
  },
  {
   "cell_type": "code",
   "outputs": [],
   "source": [
    "import spacy\n",
    "import lemminflect\n",
    "from lemminflect import getLemma, getAllLemmas, getInflection, getAllInflections #might not need, as it can be used as a spaCy extension\n",
    "import collections\n",
    "from collections.abc import Iterable\n",
    "\n",
    "def flatten(xs): #flatten a list of lists\n",
    "    for x in xs:\n",
    "        if isinstance(x, Iterable) and not isinstance(x, (str, bytes)):\n",
    "            yield from flatten(x)\n",
    "        else:\n",
    "            yield x"
   ],
   "metadata": {
    "collapsed": false,
    "ExecuteTime": {
     "end_time": "2024-04-14T12:46:44.177511Z",
     "start_time": "2024-04-14T12:46:44.173511Z"
    }
   },
   "id": "3206790296ed548d",
   "execution_count": 33
  },
  {
   "cell_type": "markdown",
   "source": [
    "## English tests"
   ],
   "metadata": {
    "collapsed": false
   },
   "id": "2ac6cf25076d7301"
  },
  {
   "cell_type": "code",
   "outputs": [],
   "source": [
    "# Load the en_core_web_md model\n",
    "nlp = spacy.load(\"en_core_web_md\")"
   ],
   "metadata": {
    "collapsed": false,
    "ExecuteTime": {
     "end_time": "2024-04-14T12:46:45.552816Z",
     "start_time": "2024-04-14T12:46:44.178511Z"
    }
   },
   "id": "857e12fbf82da989",
   "execution_count": 34
  },
  {
   "cell_type": "markdown",
   "source": [
    "Sample text from Gemini -- \"create 100 sentences using the word 'dancing'\" (only produced 50)"
   ],
   "metadata": {
    "collapsed": false
   },
   "id": "e44e00976289ed6c"
  },
  {
   "cell_type": "code",
   "outputs": [],
   "source": [
    "doc = nlp(\n",
    "    '''The fireflies danced in the twilight, creating a mesmerizing spectacle. \n",
    "    The salsa music was so infectious, everyone ended up dancing.\n",
    "Feeling shy, she pretended not to see his invitation to dance.\n",
    "Rain danced on the windowpane, a rhythmic counterpoint to the music inside.\n",
    "The ballerina's movements were so fluid, it seemed she defied gravity while dancing.\n",
    "The children danced with wild abandon, lost in their own world of imagination.\n",
    "The leaves danced in the autumn breeze, a fiery display of red and orange.\n",
    "He tapped his foot impatiently, eager to get out there and start dancing.\n",
    "The couple swayed slowly in each other's arms, their love story told in every dance step.\n",
    "The choreographer envisioned a dance that captured the essence of springtime.\n",
    "Despite her two left feet, she surprised everyone by dancing the night away.\n",
    "The tribal dancers moved with a primal energy, their bodies painted in vibrant colors.\n",
    "The disco ball spun, casting a thousand shimmering reflections on the dancing crowd.\n",
    "The waves danced on the shore, a constant rhythm against the sandy beach.\n",
    "They practiced their wedding dance every night, determined to avoid any stumbles.\n",
    "The breakdancers defied physics with their acrobatic dance moves.\n",
    "The flamenco dancer's fiery red dress swirled around her as she danced.\n",
    "The old man sat by the window, reminiscing about the days he spent dancing the night away.\n",
    "The entire town came together for the annual dance competition, a celebration of local talent.\n",
    "The raindrops danced on the umbrella, a tiny performance for one.\n",
    "The melody danced through her head, long after the music had stopped.\n",
    "He put on his dancing shoes, ready for a night of fun.\n",
    "The children learned a traditional folk dance from their grandparents.\n",
    "The street performers danced with such passion, they drew a crowd of onlookers.\n",
    "The rhythmic pounding of the drums called them to the dance floor.\n",
    "She dreamt of dancing on a grand stage, bathed in the spotlight.\n",
    "The tango was a dance of love and desire, filled with smoldering looks and intricate steps.\n",
    "The robot danced awkwardly, its movements jerky and mechanical.\n",
    "The synchronized swimmers danced underwater, a graceful ballet in an alien world.\n",
    "The documentary explored the history of ballroom dancing through the ages.\n",
    "The bonfire crackled, casting flickering shadows that danced on the walls.\n",
    "The taste of victory was sweet, and he celebrated by dancing on the field.\n",
    "The artist's brush danced across the canvas, creating a vibrant masterpiece.\n",
    "The detective's mind danced with possibilities, trying to solve the case.\n",
    "He nervously adjusted his tie, preparing to ask her to dance.\n",
    "The wind danced through the wheat fields, creating waves of gold.\n",
    "The taste buds danced on her tongue, savoring the exotic flavors.\n",
    "The flames danced in the fireplace, a warm and comforting sight.\n",
    "The couple danced under the moonlight, their love story written in the stars.\n",
    "The melody danced out of the speakers, filling the room with joy.\n",
    "The party wouldn't be complete without some dancing!\n",
    "The soloist took center stage, ready to wow the audience with their dancing skills.\n",
    "The dance instructor patiently corrected their mistakes, helping them improve their technique.\n",
    "The documentary explored the healing power of dance for people with disabilities.\n",
    "She took a deep breath and stepped onto the dance floor, ready to conquer her stage fright.\n",
    "The children giggled as they danced with their stuffed animals, their imaginations running wild.\n",
    "The competition was fierce, with dancers from all over the world vying for the top prize.\n",
    "He closed his eyes and let the music take over, his body moving instinctively.\n",
    "The waltz was a timeless dance, perfect for a romantic evening.\n",
    "The rhythmic pounding of the drums echoed through the jungle, a call to the ancient dance ritual.'''\n",
    ")\n"
   ],
   "metadata": {
    "collapsed": false,
    "ExecuteTime": {
     "end_time": "2024-04-14T12:46:45.681845Z",
     "start_time": "2024-04-14T12:46:45.553816Z"
    }
   },
   "id": "b7ab77b27394475d",
   "execution_count": 35
  },
  {
   "cell_type": "markdown",
   "source": [
    "### Lemmatization"
   ],
   "metadata": {
    "collapsed": false
   },
   "id": "f7cc93e95542d1f7"
  },
  {
   "cell_type": "code",
   "outputs": [
    {
     "name": "stdout",
     "output_type": "stream",
     "text": [
      "{'VERB': ('dance',)}\n",
      "[('dance',)] first entry:  dance\n",
      "{'NNS': ('dances', 'dance'), 'NN': ('dance',), 'VBD': ('danced',), 'VBG': ('dancing',), 'VBZ': ('dances',), 'VB': ('dance',), 'VBP': ('dance',)}\n",
      "['dances', 'dance', 'dance', 'danced', 'dancing', 'dances', 'dance', 'dance']\n"
     ]
    }
   ],
   "source": [
    "word = \"dancing\" #needs to be able to work for any word in any form, but this is the word we tested\n",
    "\n",
    "print(getAllLemmas(word, upos = None))\n",
    "word_lemmas = list(getAllLemmas(word, upos = None).values())\n",
    "print(word_lemmas, \"first entry: \", word_lemmas[0][0])\n",
    "word_inflections = getAllInflections(word_lemmas[0][0], upos=None) #doesn't work for \"Testing\"\n",
    "print(word_inflections)\n",
    "word_inflection_list = list(flatten(list(word_inflections.values())))\n",
    "print(word_inflection_list)"
   ],
   "metadata": {
    "collapsed": false,
    "ExecuteTime": {
     "end_time": "2024-04-14T12:46:45.688848Z",
     "start_time": "2024-04-14T12:46:45.683846Z"
    }
   },
   "id": "d9a02ecc8a38223e",
   "execution_count": 36
  },
  {
   "cell_type": "markdown",
   "source": [
    "So the only lemma for dancing is somehow the verb \"dance\", despite the face that \"dancing\" is a gerund and can take the place of nouns and adjectives."
   ],
   "metadata": {
    "collapsed": false
   },
   "id": "c8297a420d7a2a26"
  },
  {
   "cell_type": "code",
   "outputs": [
    {
     "name": "stdout",
     "output_type": "stream",
     "text": [
      "{'NOUN': ('dance',), 'VERB': ('dance',)}\n",
      "[('dance',), ('dance',)] first entry:  dance\n",
      "{'NNS': ('dances', 'dance'), 'NN': ('dance',), 'VBD': ('danced',), 'VBG': ('dancing',), 'VBZ': ('dances',), 'VB': ('dance',), 'VBP': ('dance',)}\n",
      "['dances', 'dance', 'dance', 'danced', 'dancing', 'dances', 'dance', 'dance']\n"
     ]
    }
   ],
   "source": [
    "word = \"dance\" \n",
    "\n",
    "print(getAllLemmas(word, upos = None))\n",
    "word_lemmas = list(getAllLemmas(word, upos = None).values())\n",
    "print(word_lemmas, \"first entry: \", word_lemmas[0][0])\n",
    "word_inflections = getAllInflections(word_lemmas[0][0], upos=None) #doesn't work for \"Testing\"\n",
    "print(word_inflections)\n",
    "word_inflection_list = list(flatten(list(word_inflections.values())))\n",
    "print(word_inflection_list)"
   ],
   "metadata": {
    "collapsed": false,
    "ExecuteTime": {
     "end_time": "2024-04-14T12:46:45.699849Z",
     "start_time": "2024-04-14T12:46:45.689847Z"
    }
   },
   "id": "7575bf8ef96d52a",
   "execution_count": 37
  },
  {
   "cell_type": "markdown",
   "source": [
    "Let's count the POS tags in the text and the POS tags of the inflections of the lemma of the word \"dance\"\n",
    "\n",
    "(if word = \"dancing\", then there is no change)"
   ],
   "metadata": {
    "collapsed": false
   },
   "id": "158e74d7d1daa445"
  },
  {
   "cell_type": "code",
   "outputs": [
    {
     "name": "stdout",
     "output_type": "stream",
     "text": [
      "{'DT': 107, 'NNS': 48, 'VBD': 61, 'IN': 76, 'NN': 138, ',': 42, 'VBG': 26, 'JJ': 54, '.': 50, '_SP': 49, 'RB': 18, 'RP': 3, 'PRP': 20, 'TO': 9, 'VB': 14, 'PRP$': 23, 'POS': 5, 'NNP': 1, 'VBN': 10, 'CC': 9, 'WDT': 2, 'CD': 3, 'MD': 1}\n",
      "{'VBD': 20, 'VBG': 8, 'VB': 2, 'NN': 17}\n"
     ]
    }
   ],
   "source": [
    "pos_count = {}\n",
    "word_pos_count = {}\n",
    "\n",
    "# Count the POS tags\n",
    "for w in doc:\n",
    "    if w.tag_ in pos_count.keys(): #count instances of each POS tag for all words\n",
    "        pos_count[w.tag_] += 1\n",
    "    else:\n",
    "        pos_count[w.tag_] = 1\n",
    "        \n",
    "    if w.lemma_ in word_inflection_list: #count instances of inflections of the word\n",
    "        if w.tag_ in word_pos_count.keys():\n",
    "            word_pos_count[w.tag_] += 1\n",
    "        else:\n",
    "            word_pos_count[w.tag_] = 1\n",
    "\n",
    "print(pos_count) #{'DT': 107, 'NNS': 48, 'VBD': 61, 'IN': 76, 'NN': 138, ',': 42, 'VBG': 26, 'JJ': 54, '.': 50, '_SP': 49, 'RB': 18, 'RP': 3, 'PRP': 20, 'TO': 9, 'VB': 14, 'PRP$': 23, 'POS': 5, 'NNP': 1, 'VBN': 10, 'CC': 9, 'WDT': 2, 'CD': 3, 'MD': 1}\n",
    "print(word_pos_count) #{'VBD': 20, 'VBG': 8, 'VB': 2, 'NN': 17} #for dance, dancing, dances, danced"
   ],
   "metadata": {
    "collapsed": false,
    "ExecuteTime": {
     "end_time": "2024-04-14T12:46:45.712852Z",
     "start_time": "2024-04-14T12:46:45.700848Z"
    }
   },
   "id": "7ce9d5fc005445a3",
   "execution_count": 38
  },
  {
   "cell_type": "markdown",
   "source": [
    "Problem: \"dancer\" is not included in the list of inflections for \"dancing\", and of course neither is \"breakdancer\". These are considered to be different words with their own lemmas, so capturing them is impossible.\n",
    "\n",
    "In that case, when we generate a sentences, we'll make sure that it includes one of our inflections, and if not, generate a new sentence -- I think that's the best we can do\n",
    "\n"
   ],
   "metadata": {
    "collapsed": false
   },
   "id": "9eb0360f6d9abffc"
  },
  {
   "cell_type": "markdown",
   "source": [
    "### Similarity and word vectors / embeddings"
   ],
   "metadata": {
    "collapsed": false
   },
   "id": "1ca6d055929832f0"
  },
  {
   "cell_type": "markdown",
   "source": [
    "Testing single word similarity with other words, higher value means more similar"
   ],
   "metadata": {
    "collapsed": false
   },
   "id": "f215158a2788e09c"
  },
  {
   "cell_type": "code",
   "outputs": [
    {
     "name": "stdout",
     "output_type": "stream",
     "text": [
      "dance <-> dancing 0.8363790327214612\n"
     ]
    }
   ],
   "source": [
    "word1 = nlp(\"dance\")\n",
    "word2 = nlp(\"dancing\")\n",
    "print(word1, \"<->\", word2, word1.similarity(word2))"
   ],
   "metadata": {
    "collapsed": false,
    "ExecuteTime": {
     "end_time": "2024-04-14T12:46:45.733856Z",
     "start_time": "2024-04-14T12:46:45.713852Z"
    }
   },
   "id": "689766149c135b80",
   "execution_count": 39
  },
  {
   "cell_type": "markdown",
   "source": [
    "Other tests:\n",
    "- dance <-> dance 1.0\n",
    "- dance <-> dancing 0.8363789916038513\n",
    "- dancing <-> dances 0.8118761362806426\n",
    "- dances <-> dance 0.869343203002707\n",
    "- dance <-> danced 0.7878954825468811\n",
    "- dance <-> dancer 0.7199643863266643 *(at least it's appropriately high)*\n",
    "- dance <-> breakdancer 0.3378131986121241 *(oof...)*\n",
    "- dancer <-> breakdancer 0.17645725682106514 *(HOW?! o_o)*\n",
    "- break <-> breakdancer 0.4872989887741418 *(that's at least sane)*\n",
    "- dance <-> tango 1.000000079040031\n",
    "- dance <-> waltz 0.40894623727215057\n",
    "- dance <-> walk 0.26834783843045323\n",
    "- run <-> walk 0.5648937353772958\n",
    "- running <-> walking 0.668782694389761\n",
    "- running <-> walk 0.4114890311601812 *(worth comparing lemmas, then...)*\n",
    "\n",
    "**The considerable difference between the results of the last three tells me that we should absolutely do similarity tests based on lemmas, since different inflections are enough to make a big difference**"
   ],
   "metadata": {
    "collapsed": false
   },
   "id": "faea0d6104c8042a"
  },
  {
   "cell_type": "markdown",
   "source": [
    "Testing to see if there's any difference when words are used in a sentence (there isn't, no effect)"
   ],
   "metadata": {
    "collapsed": false
   },
   "id": "44c45e2d24ae70"
  },
  {
   "cell_type": "code",
   "outputs": [
    {
     "name": "stdout",
     "output_type": "stream",
     "text": [
      "dance <-> dance 1.0\n",
      "dance <-> dancing 0.8363789916038513\n"
     ]
    }
   ],
   "source": [
    "word1 = nlp(\"Salsa is a type of dance.\") #dance is a noun\n",
    "word2 = nlp(\"They dance like crazy at the club.\") #dance is a verb\n",
    "print(word1[5], \"<->\", word2[1], word1[5].similarity(word2[1]))\n",
    "\n",
    "word1 = nlp(\"She took a dance class.\")\n",
    "word2 = nlp(\"They're dancing like crazy at the club.\")\n",
    "print(word1[3], \"<->\", word2[2], word1[3].similarity(word2[2]))"
   ],
   "metadata": {
    "collapsed": false,
    "ExecuteTime": {
     "end_time": "2024-04-14T12:46:45.761863Z",
     "start_time": "2024-04-14T12:46:45.734856Z"
    }
   },
   "id": "1d10861772893af2",
   "execution_count": 40
  },
  {
   "cell_type": "code",
   "outputs": [],
   "source": [],
   "metadata": {
    "collapsed": false,
    "ExecuteTime": {
     "end_time": "2024-04-14T12:46:45.765863Z",
     "start_time": "2024-04-14T12:46:45.762863Z"
    }
   },
   "id": "dc40bc2d322bbf58",
   "execution_count": 40
  }
 ],
 "metadata": {
  "kernelspec": {
   "display_name": "Python 3",
   "language": "python",
   "name": "python3"
  },
  "language_info": {
   "codemirror_mode": {
    "name": "ipython",
    "version": 2
   },
   "file_extension": ".py",
   "mimetype": "text/x-python",
   "name": "python",
   "nbconvert_exporter": "python",
   "pygments_lexer": "ipython2",
   "version": "2.7.6"
  }
 },
 "nbformat": 4,
 "nbformat_minor": 5
}
