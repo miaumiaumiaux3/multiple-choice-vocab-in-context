{
 "cells": [
  {
   "cell_type": "code",
   "execution_count": 5,
   "id": "initial_id",
   "metadata": {
    "collapsed": true,
    "ExecuteTime": {
     "end_time": "2024-04-04T11:40:05.507930Z",
     "start_time": "2024-04-04T11:40:05.503929Z"
    }
   },
   "outputs": [],
   "source": [
    "##Run these in the console if you don't already have them installed <3\n",
    "# pip install -U pip setuptools wheel #to get pip\n",
    "# pip install -U spacy #to get spacy\n",
    "# pip install lemminflect #to get lemmainflect -> eng only (even pyinflect recommends using lemminflect instead)\n",
    "# python -m spacy download en_core_web_md ##md size is minimum that has vectors for words\n",
    "# python -m spacy download pl_core_news_md"
   ]
  },
  {
   "cell_type": "code",
   "outputs": [
    {
     "ename": "ModuleNotFoundError",
     "evalue": "No module named 'spacy'",
     "output_type": "error",
     "traceback": [
      "\u001B[1;31m---------------------------------------------------------------------------\u001B[0m",
      "\u001B[1;31mModuleNotFoundError\u001B[0m                       Traceback (most recent call last)",
      "Cell \u001B[1;32mIn[3], line 1\u001B[0m\n\u001B[1;32m----> 1\u001B[0m \u001B[38;5;28;01mimport\u001B[39;00m \u001B[38;5;21;01mspacy\u001B[39;00m\n",
      "\u001B[1;31mModuleNotFoundError\u001B[0m: No module named 'spacy'"
     ]
    }
   ],
   "source": [],
   "metadata": {
    "collapsed": false,
    "ExecuteTime": {
     "end_time": "2024-04-04T11:35:38.730296Z",
     "start_time": "2024-04-04T11:35:38.703291Z"
    }
   },
   "id": "a113dccec7f003bf",
   "execution_count": 3
  },
  {
   "cell_type": "code",
   "outputs": [],
   "source": [],
   "metadata": {
    "collapsed": false
   },
   "id": "2e64a6f379c50106"
  }
 ],
 "metadata": {
  "kernelspec": {
   "display_name": "Python 3",
   "language": "python",
   "name": "python3"
  },
  "language_info": {
   "codemirror_mode": {
    "name": "ipython",
    "version": 2
   },
   "file_extension": ".py",
   "mimetype": "text/x-python",
   "name": "python",
   "nbconvert_exporter": "python",
   "pygments_lexer": "ipython2",
   "version": "2.7.6"
  }
 },
 "nbformat": 4,
 "nbformat_minor": 5
}
